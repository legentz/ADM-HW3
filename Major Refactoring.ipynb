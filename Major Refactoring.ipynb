{
 "cells": [
  {
   "cell_type": "markdown",
   "metadata": {},
   "source": [
    "# Step 1 & 2"
   ]
  },
  {
   "cell_type": "code",
   "execution_count": 312,
   "metadata": {},
   "outputs": [],
   "source": [
    "# imports\n",
    "import csv\n",
    "import heapq\n",
    "import pandas as pd\n",
    "from nltk import word_tokenize\n",
    "from nltk.corpus import stopwords\n",
    "from nltk.stem import PorterStemmer\n",
    "\n",
    "# globals\n",
    "base_dir = './data/'\n",
    "tsv_dir = base_dir + 'tsv/'\n",
    "dataset = base_dir + 'Airbnb_Texas_Rentals.csv'"
   ]
  },
  {
   "cell_type": "code",
   "execution_count": 313,
   "metadata": {},
   "outputs": [],
   "source": [
    "stopwords = set(stopwords.words('english'))\n",
    "\n",
    "# cleaning stuff\n",
    "def preprocessing_nltk(e):\n",
    "    ps = PorterStemmer()\n",
    "    \n",
    "    e = e.lower().replace('\\n', '')\n",
    "    e = word_tokenize(e)\n",
    "    e = [w for w in e if w.isalpha()]\n",
    "    e = [w for w in e if not w in stopwords]\n",
    "    e = [ps.stem(w) for w in e]\n",
    "    return e"
   ]
  },
  {
   "cell_type": "code",
   "execution_count": 434,
   "metadata": {},
   "outputs": [],
   "source": [
    "# the list of words contained in a document\n",
    "# it simply is the document content\n",
    "docid2words = {}\n",
    "\n",
    "# vocabulary\n",
    "word2id = {}\n",
    "\n",
    "# documents that contain a precise word\n",
    "word2docid = {}\n",
    "\n",
    "# a collection of city, coords and document id\n",
    "geo2coords = {}\n",
    "\n",
    "# document id related to the city name\n",
    "docid2geo = {}\n",
    "\n",
    "# processing the main .csv and creating a no. of .tsv\n",
    "with open(dataset, 'r') as csvfile:\n",
    "    csvreader = csv.reader(csvfile, delimiter=',', quotechar='\"')\n",
    "    for i, elems in enumerate(csvreader): # line\n",
    "    \n",
    "        # skip the first line as we're dealing with a .csv\n",
    "        if i == 0: continue\n",
    "        \n",
    "        # file index\n",
    "        index = elems[0]\n",
    "\n",
    "        # geo\n",
    "        coords = (elems[6], elems[7])\n",
    "        city = elems[3]\n",
    "        \n",
    "        # docid2geo\n",
    "        docid2geo[index] = city\n",
    "        \n",
    "        if not city in geo2coords.keys():\n",
    "            geo2coords[city] = coords\n",
    "        else:\n",
    "            lat, lng = geo2coords[city]\n",
    "            if lat == 'NA' or lng == 'NA':\n",
    "                geo2coords[city] = coords\n",
    "        \n",
    "        # preprocessing\n",
    "        descr = preprocessing_nltk(elems[5])\n",
    "        title = preprocessing_nltk(elems[8])\n",
    "        # elems[5] = ' '.join(descr)\n",
    "        # elems[8] = ' '.join(title)\n",
    "        \n",
    "        # docid2words\n",
    "        docid2words[index] = []\n",
    "        docid2words[index].extend(descr)\n",
    "        docid2words[index].extend(title)\n",
    "        \n",
    "        # word2id\n",
    "        for word in docid2words[index]:\n",
    "            if not word in word2id.keys(): \n",
    "                word2id[word] = len(word2id.keys())\n",
    "        \n",
    "        # word2docid\n",
    "        for word in docid2words[index]:\n",
    "            if not word in word2docid.keys():\n",
    "                word2docid[word] = set(index)\n",
    "            else:\n",
    "                word2docid[word].add(index)\n",
    "        \n",
    "        # put .tsv files into 'tsv' folder (that already has to exist)\n",
    "        with open(tsv_dir + 'doc_' + index + '.tsv', 'w') as doc_out:\n",
    "            doc_out.write('\\t'.join(elems[1:]))"
   ]
  },
  {
   "cell_type": "code",
   "execution_count": 435,
   "metadata": {},
   "outputs": [],
   "source": [
    "import math \n",
    "\n",
    "# inverse index\n",
    "word2docid_tfidf = {}\n",
    "\n",
    "# docid2word_tfidf\n",
    "docid2word_tfidf = {}\n",
    "\n",
    "# create inverse index with tfidf\n",
    "for w, docs in word2docid.items():\n",
    "    \n",
    "    # skip in case we have it already\n",
    "    if w in word2docid_tfidf.keys(): continue\n",
    "    \n",
    "    # empty list (of future tuples)\n",
    "    word2docid_tfidf[w] = []\n",
    "    \n",
    "    # for each document that contain w\n",
    "    for d in docs:\n",
    "        \n",
    "        if not d in docid2word_tfidf.keys():\n",
    "            docid2word_tfidf[d] = {}\n",
    "        \n",
    "        # get document words (content)\n",
    "        if not d in docid2words.keys(): continue\n",
    "        content = docid2words[d]\n",
    "        \n",
    "        # compute tfidf\n",
    "        # todo: export to function\n",
    "        tf = content.count(w) / len(content)\n",
    "        idf = math.log10(len(docid2words.keys()) / len(docs))\n",
    "        tfidf = tf * idf\n",
    "        \n",
    "        # fill it!\n",
    "        word2docid_tfidf[w].append((d, tfidf))\n",
    "        docid2word_tfidf[d][w] = tfidf"
   ]
  },
  {
   "cell_type": "code",
   "execution_count": 436,
   "metadata": {},
   "outputs": [
    {
     "name": "stdout",
     "output_type": "stream",
     "text": [
      "18252\n",
      "18259\n",
      "{'privat': 0.18738656253333066, 'cozi': 0.13566814294526974}\n"
     ]
    }
   ],
   "source": [
    "# fix not matching results\n",
    "print(len(set(docid2word_tfidf.keys())))\n",
    "print(len(set(docid2words.keys())))\n",
    "print(docid2word_tfidf['10'])"
   ]
  },
  {
   "cell_type": "code",
   "execution_count": 437,
   "metadata": {},
   "outputs": [],
   "source": [
    "# computing document vectors\n",
    "docid2vec = {}\n",
    "\n",
    "# todo: use numpy\n",
    "for d, doc_words in docid2words.items():\n",
    "    \n",
    "    # skip if we have it already\n",
    "    if d in docid2vec.keys(): continue\n",
    "    \n",
    "    # empty vector\n",
    "    docid2vec[d] = []\n",
    "    \n",
    "    for w in word2id.keys():\n",
    "        \n",
    "        # if that word is the selected doc\n",
    "        if w in doc_words:\n",
    "            \n",
    "            # todo: fix\n",
    "            # skip if missing\n",
    "            if not d in docid2word_tfidf.keys():\n",
    "                continue\n",
    "            if not w in docid2word_tfidf[d]:\n",
    "                docid2vec[d].append(0.0)\n",
    "                continue\n",
    "            docid2vec[d].append(docid2word_tfidf[d][w])\n",
    "            \n",
    "        # else, fill with zeros    \n",
    "        else: \n",
    "            docid2vec[d].append(0.0)"
   ]
  },
  {
   "cell_type": "code",
   "execution_count": 438,
   "metadata": {},
   "outputs": [
    {
     "name": "stdout",
     "output_type": "stream",
     "text": [
      "10127\n"
     ]
    }
   ],
   "source": [
    "print(len(docid2vec['999']))"
   ]
  },
  {
   "cell_type": "markdown",
   "metadata": {},
   "source": [
    "# Step 3"
   ]
  },
  {
   "cell_type": "code",
   "execution_count": 439,
   "metadata": {},
   "outputs": [
    {
     "name": "stdout",
     "output_type": "stream",
     "text": [
      "beautiful and decorated house on the beach\n",
      "['beauti', 'decor', 'hous', 'beach']\n"
     ]
    }
   ],
   "source": [
    "# ask user\n",
    "query = input()\n",
    "query = preprocessing_nltk(query)\n",
    "\n",
    "print(query)"
   ]
  },
  {
   "cell_type": "code",
   "execution_count": 441,
   "metadata": {},
   "outputs": [],
   "source": [
    "# build user input query vector\n",
    "uiq_vec = []\n",
    "\n",
    "for w in word2docid:\n",
    "    if not w in query:\n",
    "        uiq_vec.append(0.0)\n",
    "    else:\n",
    "        # tfidf\n",
    "        tf = query.count(w) / len(query)\n",
    "        idf = math.log10(len(docid2words.keys()) / len(word2docid[w]))\n",
    "        tfidf = tf * idf\n",
    "        uiq_vec.append(tfidf)"
   ]
  },
  {
   "cell_type": "code",
   "execution_count": 442,
   "metadata": {},
   "outputs": [
    {
     "name": "stdout",
     "output_type": "stream",
     "text": [
      "10127\n",
      "10127\n"
     ]
    }
   ],
   "source": [
    "print(len(uiq_vec))\n",
    "print(len(word2docid.keys()))"
   ]
  },
  {
   "cell_type": "code",
   "execution_count": 502,
   "metadata": {},
   "outputs": [
    {
     "name": "stdout",
     "output_type": "stream",
     "text": [
      "7\n",
      "['10846', '17594', '12313', '13544', '13294', '7960', '16502']\n"
     ]
    }
   ],
   "source": [
    "# here we are taking a list of documents numbers for each word in user query and\n",
    "# intersect these lists to receive only the numbers of documents which contain all of these query words.\n",
    "sets = []\n",
    "\n",
    "for q in query:\n",
    "    sets.append(word2docid.get(q) or set())\n",
    "matching_docs = list(set.intersection(*sets))\n",
    "\n",
    "print(len(matching_docs))\n",
    "print(matching_docs)"
   ]
  },
  {
   "cell_type": "code",
   "execution_count": 503,
   "metadata": {},
   "outputs": [
    {
     "name": "stdout",
     "output_type": "stream",
     "text": [
      "10846\n",
      "Bolivar Peninsula\n",
      "Bethel Blue is a cozy 2 bedroom 1.5 bath house about 5 blocks from the beautiful beach. It is decorated nicely and equipped with everything your family needs for a wonderful beach getaway. Military and Senior citizens receive a 10% discount!\n",
      "29.4733202013917\n",
      "-94.5974652808875\n",
      "\n",
      "17594\n",
      "Bolivar Peninsula\n",
      "Bethel Blue is a cozy 2 bedroom 1.5 bath house about 5 blocks from the beautiful beach. It is decorated nicely and equipped with everything your family needs for a wonderful beach getaway. Military and Senior citizens receive a 10% discount!\n",
      "29.4733202013917\n",
      "-94.5974652808875\n",
      "\n",
      "12313\n",
      "Kingsland\n",
      "Nicely decorated 4 bedroom, two bath house with an extra lot for additional parking. Beautiful view of packsaddle mountain and gorgeous sunsets. Sandy bottom lake frontage with sandy beach area for the kids. Kayaks included!\\n\\nPricing is usually available 6 months in advance. Local and state taxes are 10% and are not reflected in the pricing.\n",
      "30.6439855257378\n",
      "-98.4772249136191\n",
      "\n",
      "13544\n",
      "Galveston\n",
      "Down by the Sea is luxury at the beach! It is spacious, close to the beach, and loaded with unique amenities. The decor is beautiful, coastal, and comfortable. This house has 2 master bedrooms with ensuite bathrooms. When vacationing with 2 families no one has to compromise!\n",
      "29.4702126759213\n",
      "-94.5920642247654\n",
      "\n",
      "13294\n",
      "Surfside Beach\n",
      "Comfortably sleeps 10 people. Open floor plan, beach themed decorations, over sized balconies with beautiful views of the ocean. The beach is just steps from the house and very safe without having to cross any roads.\n",
      "28.9680774430393\n",
      "-95.2679315250019\n",
      "\n",
      "7960\n",
      "Kingsland\n",
      "Nicely decorated 4 bedroom, two bath house with an extra lot for additional parking. Beautiful view of packsaddle mountain and gorgeous sunsets. Sandy bottom lake frontage with sandy beach area for the kids. Kayaks included!\\n\\nPricing is usually available 6 months in advance. Local and state taxes are 10% and are not reflected in the pricing.\n",
      "30.6439855257378\n",
      "-98.4772249136191\n",
      "\n",
      "16502\n",
      "Surfside Beach\n",
      "My house is close to the beach, great views, and restaurants and dining. You’ll love it because of the views, the location, the ambiance, and the people. My place is good for couples, solo adventurers, business travelers, families (with kids), big groups, and furry friends (pets).\\n\\nComfortably sleeps 10 people. Open floor plan, beach themed decorations, over sized balconies with beautiful views of the ocean. The beach is just steps from the house and very safe without having to cross any roads.\n",
      "28.9691337883619\n",
      "-95.268177794608\n",
      "\n"
     ]
    }
   ],
   "source": [
    "# todo: show matching_docs through pandas\n",
    "for md in matching_docs:\n",
    "    df = pd.read_csv(tsv_dir + 'doc_' + md + '.tsv', sep='\\t', usecols=[2, 4, 5, 6])\n",
    "    print(md)\n",
    "    print(df.columns[0])\n",
    "    print(df.columns[1])\n",
    "    print(df.columns[2])\n",
    "    print(df.columns[3] + '\\n')"
   ]
  },
  {
   "cell_type": "code",
   "execution_count": 446,
   "metadata": {},
   "outputs": [],
   "source": [
    "from scipy import spatial\n",
    "\n",
    "def cosine_similarity(vec_src, vec_tgt):\n",
    "    return 1 - spatial.distance.cosine(vec_src, vec_tgt)"
   ]
  },
  {
   "cell_type": "code",
   "execution_count": 504,
   "metadata": {},
   "outputs": [],
   "source": [
    "matching_docs_cos = []\n",
    "\n",
    "# to test it all over the docs -> docid2vec.keys()\n",
    "for d in matching_docs:\n",
    "    if len(uiq_vec) == len(docid2vec[d]):\n",
    "        matching_docs_cos.append((cosine_similarity(uiq_vec, docid2vec[d]), d))"
   ]
  },
  {
   "cell_type": "code",
   "execution_count": 505,
   "metadata": {},
   "outputs": [
    {
     "name": "stdout",
     "output_type": "stream",
     "text": [
      "[(0.3441485802044202, '13294'), (0.34341842971434833, '16502'), (0.33463006224016045, '13544'), (0.24303374182502657, '17594'), (0.24303374182502657, '10846'), (0.19780816569422444, '7960'), (0.17957073272176072, '12313')]\n"
     ]
    }
   ],
   "source": [
    "# creating heap structure\n",
    "heapq.heapify(matching_docs_cos)\n",
    "\n",
    "# showing the top-k where k = 10\n",
    "topk_cos = heapq.nlargest(10, matching_docs_cos)\n",
    "print(topk_cos)"
   ]
  },
  {
   "cell_type": "code",
   "execution_count": 506,
   "metadata": {},
   "outputs": [
    {
     "name": "stdout",
     "output_type": "stream",
     "text": [
      "(0.3441485802044202, '13294')\n",
      "Surfside Beach\n",
      "Comfortably sleeps 10 people. Open floor plan, beach themed decorations, over sized balconies with beautiful views of the ocean. The beach is just steps from the house and very safe without having to cross any roads.\n",
      "28.9680774430393\n",
      "-95.2679315250019\n",
      "\n",
      "(0.34341842971434833, '16502')\n",
      "Surfside Beach\n",
      "My house is close to the beach, great views, and restaurants and dining. You’ll love it because of the views, the location, the ambiance, and the people. My place is good for couples, solo adventurers, business travelers, families (with kids), big groups, and furry friends (pets).\\n\\nComfortably sleeps 10 people. Open floor plan, beach themed decorations, over sized balconies with beautiful views of the ocean. The beach is just steps from the house and very safe without having to cross any roads.\n",
      "28.9691337883619\n",
      "-95.268177794608\n",
      "\n",
      "(0.33463006224016045, '13544')\n",
      "Galveston\n",
      "Down by the Sea is luxury at the beach! It is spacious, close to the beach, and loaded with unique amenities. The decor is beautiful, coastal, and comfortable. This house has 2 master bedrooms with ensuite bathrooms. When vacationing with 2 families no one has to compromise!\n",
      "29.4702126759213\n",
      "-94.5920642247654\n",
      "\n",
      "(0.24303374182502657, '17594')\n",
      "Bolivar Peninsula\n",
      "Bethel Blue is a cozy 2 bedroom 1.5 bath house about 5 blocks from the beautiful beach. It is decorated nicely and equipped with everything your family needs for a wonderful beach getaway. Military and Senior citizens receive a 10% discount!\n",
      "29.4733202013917\n",
      "-94.5974652808875\n",
      "\n",
      "(0.24303374182502657, '10846')\n",
      "Bolivar Peninsula\n",
      "Bethel Blue is a cozy 2 bedroom 1.5 bath house about 5 blocks from the beautiful beach. It is decorated nicely and equipped with everything your family needs for a wonderful beach getaway. Military and Senior citizens receive a 10% discount!\n",
      "29.4733202013917\n",
      "-94.5974652808875\n",
      "\n",
      "(0.19780816569422444, '7960')\n",
      "Kingsland\n",
      "Nicely decorated 4 bedroom, two bath house with an extra lot for additional parking. Beautiful view of packsaddle mountain and gorgeous sunsets. Sandy bottom lake frontage with sandy beach area for the kids. Kayaks included!\\n\\nPricing is usually available 6 months in advance. Local and state taxes are 10% and are not reflected in the pricing.\n",
      "30.6439855257378\n",
      "-98.4772249136191\n",
      "\n",
      "(0.17957073272176072, '12313')\n",
      "Kingsland\n",
      "Nicely decorated 4 bedroom, two bath house with an extra lot for additional parking. Beautiful view of packsaddle mountain and gorgeous sunsets. Sandy bottom lake frontage with sandy beach area for the kids. Kayaks included!\\n\\nPricing is usually available 6 months in advance. Local and state taxes are 10% and are not reflected in the pricing.\n",
      "30.6439855257378\n",
      "-98.4772249136191\n",
      "\n"
     ]
    }
   ],
   "source": [
    "# todo: show top-k through pandas\n",
    "for md in topk_cos:\n",
    "    df = pd.read_csv(tsv_dir + 'doc_' + md[1] + '.tsv', sep='\\t', usecols=[2, 4, 5, 6])\n",
    "    print(md)\n",
    "    print(df.columns[0])\n",
    "    print(df.columns[1])\n",
    "    print(df.columns[2])\n",
    "    print(df.columns[3] + '\\n')"
   ]
  },
  {
   "cell_type": "markdown",
   "metadata": {},
   "source": [
    "# Step 4"
   ]
  },
  {
   "cell_type": "code",
   "execution_count": 486,
   "metadata": {},
   "outputs": [
    {
     "name": "stdout",
     "output_type": "stream",
     "text": [
      "Kingsland\n"
     ]
    }
   ],
   "source": [
    "# todo: geo2coords has to be preprocessed\n",
    "\n",
    "# ask user's position\n",
    "u_pos = input()"
   ]
  },
  {
   "cell_type": "code",
   "execution_count": 487,
   "metadata": {},
   "outputs": [],
   "source": [
    "import sys\n",
    "\n",
    "# todo: loop input until a valid city has been provided\n",
    "# get coords\n",
    "if not u_pos in geo2coords.keys():\n",
    "    print('This city is not supported!')\n",
    "    sys.exit(1)\n",
    "\n",
    "coords = geo2coords[u_pos]"
   ]
  },
  {
   "cell_type": "code",
   "execution_count": 488,
   "metadata": {},
   "outputs": [
    {
     "name": "stdout",
     "output_type": "stream",
     "text": [
      "('30.6508725280312', '-98.4403411806001')\n"
     ]
    }
   ],
   "source": [
    "print(coords)"
   ]
  },
  {
   "cell_type": "code",
   "execution_count": 507,
   "metadata": {},
   "outputs": [],
   "source": [
    "import geopy.distance\n",
    "\n",
    "# the variables of the function takes 2 values for each location\n",
    "def distance_function(first_location, second_location):\n",
    "    return (geopy.distance.geodesic(first_location, second_location).km) # this is better because considers the Earth as an ellipse"
   ]
  },
  {
   "cell_type": "code",
   "execution_count": 490,
   "metadata": {},
   "outputs": [],
   "source": [
    "distances = []\n",
    "\n",
    "for m in matching_docs:\n",
    "    d_city = docid2geo[m]\n",
    "    d_coords = geo2coords[d_city]\n",
    "    \n",
    "    dist = distance_function(coords, d_coords)\n",
    "    distances.append((dist, m, d_city))"
   ]
  },
  {
   "cell_type": "code",
   "execution_count": 491,
   "metadata": {},
   "outputs": [
    {
     "name": "stdout",
     "output_type": "stream",
     "text": [
      "[(386.25038793584775, '10846', 'Bolivar Peninsula'), (386.25038793584775, '17594', 'Bolivar Peninsula'), (0.0, '12313', 'Kingsland'), (383.57928350819566, '13544', 'Galveston'), (358.9508977632399, '13294', 'Surfside Beach'), (0.0, '7960', 'Kingsland'), (358.9508977632399, '16502', 'Surfside Beach')]\n",
      "['10846', '17594', '12313', '13544', '13294', '7960', '16502']\n",
      "7\n"
     ]
    }
   ],
   "source": [
    "print(distances)\n",
    "print(matching_docs)\n",
    "print(len(matching_docs))"
   ]
  },
  {
   "cell_type": "code",
   "execution_count": 493,
   "metadata": {},
   "outputs": [],
   "source": [
    "import numpy as np\n",
    "from sklearn.preprocessing import minmax_scale\n",
    "\n",
    "# from https://stackoverflow.com/questions/21030391/how-to-normalize-array-numpy\n",
    "def normalized(a, axis=-1, order=2):\n",
    "    l2 = np.atleast_1d(np.linalg.norm(a, order, axis))\n",
    "    l2[l2==0] = 1\n",
    "    return a / np.expand_dims(l2, axis)"
   ]
  },
  {
   "cell_type": "code",
   "execution_count": 508,
   "metadata": {},
   "outputs": [
    {
     "name": "stdout",
     "output_type": "stream",
     "text": [
      "[(386.25038793584775, '10846', 'Bolivar Peninsula'), (386.25038793584775, '17594', 'Bolivar Peninsula'), (0.0, '12313', 'Kingsland'), (383.57928350819566, '13544', 'Galveston'), (358.9508977632399, '13294', 'Surfside Beach'), (0.0, '7960', 'Kingsland'), (358.9508977632399, '16502', 'Surfside Beach')]\n",
      "[386.25038793584775, 386.25038793584775, 0.0, 383.57928350819566, 358.9508977632399, 0.0, 358.9508977632399]\n",
      "[[0.46060482 0.46060482 0.         0.4574195  0.42805007 0.\n",
      "  0.42805007]]\n",
      "[[0.5393952  0.5393952  1.         0.5425805  0.57194996 1.\n",
      "  0.57194996]]\n",
      "1\n"
     ]
    }
   ],
   "source": [
    "distance_km = [x[0] for x in distances]\n",
    "distance_km_norm = normalized(np.asarray(distance_km, dtype=np.float32))\n",
    "distance_km_norm_inverted = 1.0 - distance_km_norm\n",
    "\n",
    "print(distances)\n",
    "print(distance_km)\n",
    "print(distance_km_norm)\n",
    "print(distance_km_norm_inverted)\n",
    "print(len(distance_km_norm))"
   ]
  },
  {
   "cell_type": "code",
   "execution_count": 495,
   "metadata": {
    "scrolled": true
   },
   "outputs": [],
   "source": [
    "# merge cosine_similarity and distance\n",
    "matching_docs_ni = []\n",
    "\n",
    "# todo: score and heap structure\n",
    "\n",
    "for i in range(len(matching_docs_cos)):\n",
    "    m_doc = matching_docs_cos[i]\n",
    "    m_doc_cos = m_doc[0]\n",
    "    m_doc_id = m_doc[1]\n",
    "    dist_i = distance_km_norm[0][i]\n",
    "    \n",
    "    # weighted mean value\n",
    "    # giving more weight to the distance...\n",
    "    mean_v = ((m_doc_cos * 0.2) + (dist_i * 0.8)) / 1.0\n",
    "    # mean_v = (m_doc_cos + dist_i)\n",
    "    matching_docs_ni.append((mean_v, m_doc_id))"
   ]
  },
  {
   "cell_type": "code",
   "execution_count": 496,
   "metadata": {},
   "outputs": [
    {
     "name": "stdout",
     "output_type": "stream",
     "text": [
      "[(0.4043979998845011, '12313'), (0.4170906017051543, '17594'), (0.03956163313884489, '7960'), (0.43286162417288565, '13544'), (0.4112697728417264, '13294'), (0.048606748365005316, '10846'), (0.411123742743712, '16502')]\n",
      "7\n"
     ]
    }
   ],
   "source": [
    "print(matching_docs_ni)\n",
    "print(len(matching_docs_ni))"
   ]
  },
  {
   "cell_type": "code",
   "execution_count": 497,
   "metadata": {},
   "outputs": [
    {
     "name": "stdout",
     "output_type": "stream",
     "text": [
      "[(0.43286162417288565, '13544'), (0.4170906017051543, '17594'), (0.4112697728417264, '13294'), (0.411123742743712, '16502'), (0.4043979998845011, '12313'), (0.048606748365005316, '10846'), (0.03956163313884489, '7960')]\n"
     ]
    }
   ],
   "source": [
    "# creating heap structure\n",
    "heapq.heapify(matching_docs_ni)\n",
    "\n",
    "# showing the top-k where k = 10\n",
    "topk = heapq.nlargest(10, matching_docs_ni)\n",
    "print(topk)"
   ]
  },
  {
   "cell_type": "code",
   "execution_count": 498,
   "metadata": {},
   "outputs": [
    {
     "name": "stdout",
     "output_type": "stream",
     "text": [
      "10846\n",
      "Bolivar Peninsula\n",
      "Bethel Blue is a cozy 2 bedroom 1.5 bath house about 5 blocks from the beautiful beach. It is decorated nicely and equipped with everything your family needs for a wonderful beach getaway. Military and Senior citizens receive a 10% discount!\n",
      "29.4733202013917\n",
      "-94.5974652808875\n",
      "\n",
      "17594\n",
      "Bolivar Peninsula\n",
      "Bethel Blue is a cozy 2 bedroom 1.5 bath house about 5 blocks from the beautiful beach. It is decorated nicely and equipped with everything your family needs for a wonderful beach getaway. Military and Senior citizens receive a 10% discount!\n",
      "29.4733202013917\n",
      "-94.5974652808875\n",
      "\n",
      "12313\n",
      "Kingsland\n",
      "Nicely decorated 4 bedroom, two bath house with an extra lot for additional parking. Beautiful view of packsaddle mountain and gorgeous sunsets. Sandy bottom lake frontage with sandy beach area for the kids. Kayaks included!\\n\\nPricing is usually available 6 months in advance. Local and state taxes are 10% and are not reflected in the pricing.\n",
      "30.6439855257378\n",
      "-98.4772249136191\n",
      "\n",
      "13544\n",
      "Galveston\n",
      "Down by the Sea is luxury at the beach! It is spacious, close to the beach, and loaded with unique amenities. The decor is beautiful, coastal, and comfortable. This house has 2 master bedrooms with ensuite bathrooms. When vacationing with 2 families no one has to compromise!\n",
      "29.4702126759213\n",
      "-94.5920642247654\n",
      "\n",
      "13294\n",
      "Surfside Beach\n",
      "Comfortably sleeps 10 people. Open floor plan, beach themed decorations, over sized balconies with beautiful views of the ocean. The beach is just steps from the house and very safe without having to cross any roads.\n",
      "28.9680774430393\n",
      "-95.2679315250019\n",
      "\n",
      "7960\n",
      "Kingsland\n",
      "Nicely decorated 4 bedroom, two bath house with an extra lot for additional parking. Beautiful view of packsaddle mountain and gorgeous sunsets. Sandy bottom lake frontage with sandy beach area for the kids. Kayaks included!\\n\\nPricing is usually available 6 months in advance. Local and state taxes are 10% and are not reflected in the pricing.\n",
      "30.6439855257378\n",
      "-98.4772249136191\n",
      "\n",
      "16502\n",
      "Surfside Beach\n",
      "My house is close to the beach, great views, and restaurants and dining. You’ll love it because of the views, the location, the ambiance, and the people. My place is good for couples, solo adventurers, business travelers, families (with kids), big groups, and furry friends (pets).\\n\\nComfortably sleeps 10 people. Open floor plan, beach themed decorations, over sized balconies with beautiful views of the ocean. The beach is just steps from the house and very safe without having to cross any roads.\n",
      "28.9691337883619\n",
      "-95.268177794608\n",
      "\n"
     ]
    }
   ],
   "source": [
    "# todo: visualize data with pandas\n",
    "for md in matching_docs:\n",
    "    df = pd.read_csv(tsv_dir + 'doc_' + md + '.tsv', sep='\\t', usecols=[2, 4, 5, 6])\n",
    "    print(md)\n",
    "    print(df.columns[0])\n",
    "    print(df.columns[1])\n",
    "    print(df.columns[2])\n",
    "    print(df.columns[3] + '\\n')"
   ]
  }
 ],
 "metadata": {
  "kernelspec": {
   "display_name": "Python 3",
   "language": "python",
   "name": "python3"
  },
  "language_info": {
   "codemirror_mode": {
    "name": "ipython",
    "version": 3
   },
   "file_extension": ".py",
   "mimetype": "text/x-python",
   "name": "python",
   "nbconvert_exporter": "python",
   "pygments_lexer": "ipython3",
   "version": "3.7.0"
  }
 },
 "nbformat": 4,
 "nbformat_minor": 2
}
