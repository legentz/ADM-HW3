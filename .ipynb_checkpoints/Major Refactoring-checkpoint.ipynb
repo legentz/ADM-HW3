{
 "cells": [
  {
   "cell_type": "markdown",
   "metadata": {},
   "source": [
    "# Step 1 & 2"
   ]
  },
  {
   "cell_type": "code",
   "execution_count": 68,
   "metadata": {},
   "outputs": [],
   "source": [
    "# imports\n",
    "import csv\n",
    "import heapq\n",
    "import pandas as pd\n",
    "import numpy as np\n",
    "import math\n",
    "\n",
    "# utils\n",
    "from utils import normalized\n",
    "from utils import preprocessing_nltk\n",
    "from utils import compute_tfidf\n",
    "from utils import cosine_similarity\n",
    "from utils import distance_function\n",
    "\n",
    "# globals\n",
    "base_dir = './data/'\n",
    "tsv_dir = base_dir + 'tsv/'\n",
    "dataset = base_dir + 'Airbnb_Texas_Rentals.csv'"
   ]
  },
  {
   "cell_type": "code",
   "execution_count": 99,
   "metadata": {},
   "outputs": [],
   "source": [
    "# the list of words contained in a document\n",
    "# it simply is the document content\n",
    "docid2words = {}\n",
    "\n",
    "# vocabulary\n",
    "word2id = {}\n",
    "\n",
    "# documents that contain a precise word\n",
    "word2docid = {}\n",
    "\n",
    "# a collection of city, coords and document id\n",
    "geo2coords = {}\n",
    "\n",
    "# document id related to the city name\n",
    "docid2geo = {}\n",
    "\n",
    "# processing the main .csv and creating a no. of .tsv\n",
    "with open(dataset, 'r') as csvfile:\n",
    "    csvreader = csv.reader(csvfile, delimiter=',', quotechar='\"')\n",
    "    \n",
    "    # extracting data from each line\n",
    "    for i, elems in enumerate(csvreader): # line\n",
    "    \n",
    "        # skip header\n",
    "        if i == 0: continue\n",
    "        \n",
    "        # file index\n",
    "        index = elems[0]\n",
    "        \n",
    "        # geo (coords and city)\n",
    "        coords = (elems[6], elems[7])\n",
    "        city = elems[3]\n",
    "        \n",
    "        # preprocessing content (words)\n",
    "        descr = preprocessing_nltk(elems[5])\n",
    "        title = preprocessing_nltk(elems[8])\n",
    "        \n",
    "        # discarding docs with no words...\n",
    "        if len(descr) == 0 and len(title) == 0: continue\n",
    "        \n",
    "        # we don't want to deal with no location (needed in step 4)\n",
    "        if all(isinstance(c, float) for c in coords): continue  \n",
    "        \n",
    "        # add city and its coords (no duplicates)\n",
    "        if not city in geo2coords.keys():\n",
    "            geo2coords[city] = coords       \n",
    "\n",
    "        # docid2geo\n",
    "        docid2geo[index] = city\n",
    "        \n",
    "        # docid2words\n",
    "        docid2words[index] = []\n",
    "        docid2words[index].extend(descr)\n",
    "        docid2words[index].extend(title)\n",
    "        \n",
    "        # working with words to fill dictionaries\n",
    "        for word in docid2words[index]:\n",
    "            \n",
    "            # word2id\n",
    "            if not word in word2id.keys(): \n",
    "                word2id[word] = len(word2id.keys())\n",
    "            \n",
    "            # word2docid\n",
    "            if not word in word2docid.keys():\n",
    "                word2docid[word] = set([index])\n",
    "            else:\n",
    "                word2docid[word].add(index)\n",
    "        \n",
    "        # produce tsv\n",
    "        # put .tsv files into 'tsv' folder (that already has to exist)\n",
    "        with open(tsv_dir + 'doc_' + index + '.tsv', 'w') as doc_out:\n",
    "            doc_out.write('\\t'.join(elems[1:]))"
   ]
  },
  {
   "cell_type": "markdown",
   "metadata": {},
   "source": [
    "Creating the inverse index with tf-idf"
   ]
  },
  {
   "cell_type": "code",
   "execution_count": 106,
   "metadata": {},
   "outputs": [],
   "source": [
    "# inverse index\n",
    "word2docid_tfidf = {}\n",
    "\n",
    "# docid2words_tfidf\n",
    "docid2words_tfidf = {}\n",
    "\n",
    "# create inverse index with tfidf\n",
    "for w, docs in word2docid.items():\n",
    "    \n",
    "    # skip in case we already have a word in the vocabulary\n",
    "    if w in word2docid_tfidf.keys(): continue\n",
    "    \n",
    "    # empty list (of future tuples)\n",
    "    word2docid_tfidf[w] = []\n",
    "    \n",
    "    # for each document that contains w\n",
    "    for d in docs:\n",
    "        \n",
    "        # create an empty structure if it's the first match\n",
    "        if not d in docid2words_tfidf.keys():\n",
    "            docid2words_tfidf[d] = {}\n",
    "        \n",
    "        # get document words (all its words)\n",
    "        content = docid2words[d]\n",
    "        \n",
    "        # compute tfidf\n",
    "        tfidf = compute_tfidf(content.count(w), len(content), len(docid2words.keys()), len(docs))\n",
    "        \n",
    "        # fill the vector\n",
    "        word2docid_tfidf[w].append((d, tfidf))\n",
    "        docid2words_tfidf[d][w] = tfidf"
   ]
  },
  {
   "cell_type": "code",
   "execution_count": 107,
   "metadata": {},
   "outputs": [
    {
     "name": "stdout",
     "output_type": "stream",
     "text": [
      "['privat', 'entranc', 'cozi', 'histor', 'privat', 'studio']\n",
      "{'privat': 0.18737070484602142, 'cozi': 0.13566021410161513, 'entranc': 0.23998598119244557, 'histor': 0.19322314834126833, 'studio': 0.2496669036660849}\n"
     ]
    }
   ],
   "source": [
    "# sample of content for doc no. 10\n",
    "print(docid2words['10'])\n",
    "print(docid2words_tfidf['10'])"
   ]
  },
  {
   "cell_type": "code",
   "execution_count": 108,
   "metadata": {},
   "outputs": [],
   "source": [
    "# computing document vectors\n",
    "docid2vec = {}\n",
    "\n",
    "# todo: use numpy\n",
    "for d, doc_words in docid2words.items():\n",
    "    \n",
    "    # skip if we have it already\n",
    "    if d in docid2vec.keys(): continue\n",
    "    \n",
    "    # empty vector\n",
    "    docid2vec[d] = []\n",
    "    \n",
    "    for w in word2id.keys():\n",
    "        \n",
    "        # if that word is the selected doc\n",
    "        if w in doc_words:\n",
    "            \n",
    "            # todo: fix\n",
    "            # skip if missing\n",
    "            if not d in docid2words_tfidf.keys():\n",
    "                continue\n",
    "            if not w in docid2words_tfidf[d]:\n",
    "                docid2vec[d].append(0.0)\n",
    "                continue\n",
    "            docid2vec[d].append(docid2words_tfidf[d][w])\n",
    "            \n",
    "        # else, fill with zeros    \n",
    "        else: \n",
    "            docid2vec[d].append(0.0)"
   ]
  },
  {
   "cell_type": "code",
   "execution_count": 111,
   "metadata": {},
   "outputs": [
    {
     "name": "stdout",
     "output_type": "stream",
     "text": [
      "10127\n",
      "10127\n"
     ]
    }
   ],
   "source": [
    "# length of a document vector\n",
    "# it's the same length of the vocabulary\n",
    "print(len(docid2vec['999']))\n",
    "print(len(word2id.keys()))"
   ]
  },
  {
   "cell_type": "markdown",
   "metadata": {},
   "source": [
    "# Step 3"
   ]
  },
  {
   "cell_type": "code",
   "execution_count": 180,
   "metadata": {},
   "outputs": [
    {
     "name": "stdout",
     "output_type": "stream",
     "text": [
      "beautiful apartment downtown balcony\n",
      "['beauti', 'apart', 'downtown', 'balconi']\n"
     ]
    }
   ],
   "source": [
    "# ask user\n",
    "query = input()\n",
    "query = preprocessing_nltk(query)\n",
    "\n",
    "print(query)"
   ]
  },
  {
   "cell_type": "code",
   "execution_count": 181,
   "metadata": {},
   "outputs": [],
   "source": [
    "# build user input query vector\n",
    "uiq_vec = []\n",
    "\n",
    "# for each word in vocabulary\n",
    "for w in word2docid.keys():\n",
    "    \n",
    "    # default is 0.0\n",
    "    to_push = 0.0\n",
    "    \n",
    "    # if word is contained in user's query\n",
    "    # we need to push tfidf value for that word\n",
    "    if w in query:\n",
    "        to_push = compute_tfidf(query.count(w), len(query), len(docid2words.keys()), len(word2docid[w]))\n",
    "    \n",
    "    # add value in position \n",
    "    uiq_vec.append(to_push)"
   ]
  },
  {
   "cell_type": "code",
   "execution_count": 182,
   "metadata": {},
   "outputs": [
    {
     "name": "stdout",
     "output_type": "stream",
     "text": [
      "9\n",
      "['15417', '17058', '16178', '1243', '7172', '8543', '4451', '14105', '5324']\n"
     ]
    }
   ],
   "source": [
    "# here we are taking a list of documents numbers for each word in user query and\n",
    "# intersect these lists to receive only the numbers of documents which contain all of these query words.\n",
    "sets = []\n",
    "\n",
    "for q in query:\n",
    "    sets.append(word2docid.get(q) or set())\n",
    "matching_docs = list(set.intersection(*sets))\n",
    "\n",
    "print(len(matching_docs))\n",
    "print(matching_docs)"
   ]
  },
  {
   "cell_type": "code",
   "execution_count": 183,
   "metadata": {},
   "outputs": [
    {
     "name": "stdout",
     "output_type": "stream",
     "text": [
      "15417\n",
      "Austin\n",
      "Large 1-bedroom apartment in the heart of South Austin. Beautiful view of downtown from balcony! Bus stop right across the street that will take you Dowtown/Zilker/Barton Springs. Bars and restaurants within walking distance. Quiet Complex w/parking.\n",
      "30.2361541000197\n",
      "-97.7829581256141\n",
      "\n",
      "17058\n",
      "Dallas\n",
      "In the heart of historic Old East Dallas, this is a beautiful 1930’s Victorian apartment house that’s as classic as it is comfortable. Relax on the big, shared upstairs balcony with a cup of coffee or glass of wine overlooking sleepy Junius Street. Find original character everywhere with modern amenities like highspeed WiFi, Amazon Fire TV w/ Netflix and Hulu. Prime location near Downtown, Deep Ellum and Lower Greenville. Cafes, shopping, nightlife and restaurants are conveniently close.\n",
      "32.795928386191\n",
      "-96.7716865515425\n",
      "\n",
      "16178\n",
      "Dallas\n",
      "My apartment is a cozy artist get away only a few minutes from nightlife, shopping and dinning in Deep Ellum, Lower Greenville, and downtown Dallas. Whole Foods, CVS, and Starbucks are right up the street! So is the Lakewood Public Library and the Santa Fe Trail that leads you right to White Rock Lake! Enjoy the glass doors that open to a balcony overseeing the beautiful and easily accessible pool! My home is a LGBTQ and people of color affirming space.\n",
      "32.8085129339755\n",
      "-96.7581887202232\n",
      "\n",
      "1243\n",
      "Dallas\n",
      "In the heart of historic Old East Dallas, this is a beautiful 1930’s Victorian apartment house that’s as classic as it is comfortable. Relax on the big, shared upstairs balcony with a cup of coffee or glass of wine overlooking sleepy Junius Street. Find original character everywhere with modern amenities like highspeed WiFi and Amazon Fire TV w/ Netflix and Hulu. Prime location near Downtown, Deep Ellum and Lower Greenville. Cafes, shopping, nightlife and restaurants are conveniently close.\n",
      "32.7963935721254\n",
      "-96.7717690173793\n",
      "\n",
      "7172\n",
      "Austin\n",
      "New contemporary apartment less than a mile from beautiful Lake Austin and a 15-20 minute drive to downtown Austin. Apartment features a living area, private bedroom with full bed, new queen sofa bed, private entrance and balcony.\n",
      "30.3455405518117\n",
      "-97.8594403179482\n",
      "\n",
      "8543\n",
      "Austin\n",
      "Beautiful 1 bed 1 bath apartment with balcony view AND garage parking. In downtown Austin! 5 min drive from 6th Street/ Town Lake, &amp; Rainey Street. Average cost for a RideShare if you don't have a car to downtown nightlife is $6.\n",
      "30.2861570183293\n",
      "-97.7475284766327\n",
      "\n",
      "4451\n",
      "Dallas\n",
      "My apartment is a cozy artist get away only a few minutes from nightlife, shopping and dinning in Deep Ellum, Lower Greenville, and downtown Dallas. Whole Foods, CVS, and Starbucks are right up the street! So is the Lakewood Public Library and the Santa Fe Trail that leads you right to White Rock Lake! Enjoy the glass doors that open to a balcony overseeing the beautiful and easily accessible pool! My home is a LGBTQ and people of color affirming space.\n",
      "32.8085129339755\n",
      "-96.7581887202232\n",
      "\n",
      "14105\n",
      "Dallas\n",
      "Our apartment is a cute artist get away only a few minutes from nightlife, shopping and dinning in Deep Ellum, Lower Greenville, and downtown Dallas. Whole Foods, CVS, and Starbucks are right up the street! So is the Lakewood Public Library and the Santa Fe Trail that leads you right to White Rock Lake! Enjoy the glass doors that open to a balcony overseeing the beautiful and easily accessible pool! My home is a LGBTQ and people of color affirming space.\n",
      "32.8106639925534\n",
      "-96.756590262582\n",
      "\n",
      "5324\n",
      "Houston\n",
      "Contemporary styled apartment with a beautiful color scheme attached. Consists of 1 Bedroom (Master), Dining area, 2 balconies, Kitchen (Fully equipped), Living Room, and Bathroom with bath/shower combo and two sinks included. \\nLocated 24 miles from NRG Stadium; approximately 35 minutes away. \\nLocated 22 miles from Downtown Houston; approximately 32 minutes away.\n",
      "29.7320840939491\n",
      "-95.6537604044484\n",
      "\n"
     ]
    }
   ],
   "source": [
    "# todo: show matching_docs through pandas\n",
    "for md in matching_docs:\n",
    "    df = pd.read_csv(tsv_dir + 'doc_' + md + '.tsv', sep='\\t', usecols=[2, 4, 5, 6])\n",
    "    print(md)\n",
    "    print(df.columns[0])\n",
    "    print(df.columns[1])\n",
    "    print(df.columns[2])\n",
    "    print(df.columns[3] + '\\n')"
   ]
  },
  {
   "cell_type": "code",
   "execution_count": 184,
   "metadata": {},
   "outputs": [],
   "source": [
    "matching_docs_cos = []\n",
    "\n",
    "# to test it all over the docs -> docid2vec.keys()\n",
    "for d in matching_docs:\n",
    "    if len(uiq_vec) == len(docid2vec[d]):\n",
    "        matching_docs_cos.append((cosine_similarity(uiq_vec, docid2vec[d]), d))"
   ]
  },
  {
   "cell_type": "code",
   "execution_count": 185,
   "metadata": {},
   "outputs": [
    {
     "name": "stdout",
     "output_type": "stream",
     "text": [
      "[(0.3946997927850433, '7172'), (0.29868038710081823, '8543'), (0.28160131275452094, '15417'), (0.21705066786852723, '5324'), (0.18638229010465457, '14105'), (0.16080989170544646, '17058'), (0.15479289383844108, '1243'), (0.15090774604746593, '4451'), (0.15090774604746593, '16178')]\n"
     ]
    }
   ],
   "source": [
    "# creating heap structure\n",
    "heapq.heapify(matching_docs_cos)\n",
    "\n",
    "# showing the top-k where k = 10\n",
    "topk_cos = heapq.nlargest(10, matching_docs_cos)\n",
    "print(topk_cos)"
   ]
  },
  {
   "cell_type": "code",
   "execution_count": 186,
   "metadata": {},
   "outputs": [
    {
     "name": "stdout",
     "output_type": "stream",
     "text": [
      "(0.3946997927850433, '7172')\n",
      "Austin\n",
      "New contemporary apartment less than a mile from beautiful Lake Austin and a 15-20 minute drive to downtown Austin. Apartment features a living area, private bedroom with full bed, new queen sofa bed, private entrance and balcony.\n",
      "30.3455405518117\n",
      "-97.8594403179482\n",
      "\n",
      "(0.29868038710081823, '8543')\n",
      "Austin\n",
      "Beautiful 1 bed 1 bath apartment with balcony view AND garage parking. In downtown Austin! 5 min drive from 6th Street/ Town Lake, &amp; Rainey Street. Average cost for a RideShare if you don't have a car to downtown nightlife is $6.\n",
      "30.2861570183293\n",
      "-97.7475284766327\n",
      "\n",
      "(0.28160131275452094, '15417')\n",
      "Austin\n",
      "Large 1-bedroom apartment in the heart of South Austin. Beautiful view of downtown from balcony! Bus stop right across the street that will take you Dowtown/Zilker/Barton Springs. Bars and restaurants within walking distance. Quiet Complex w/parking.\n",
      "30.2361541000197\n",
      "-97.7829581256141\n",
      "\n",
      "(0.21705066786852723, '5324')\n",
      "Houston\n",
      "Contemporary styled apartment with a beautiful color scheme attached. Consists of 1 Bedroom (Master), Dining area, 2 balconies, Kitchen (Fully equipped), Living Room, and Bathroom with bath/shower combo and two sinks included. \\nLocated 24 miles from NRG Stadium; approximately 35 minutes away. \\nLocated 22 miles from Downtown Houston; approximately 32 minutes away.\n",
      "29.7320840939491\n",
      "-95.6537604044484\n",
      "\n",
      "(0.18638229010465457, '14105')\n",
      "Dallas\n",
      "Our apartment is a cute artist get away only a few minutes from nightlife, shopping and dinning in Deep Ellum, Lower Greenville, and downtown Dallas. Whole Foods, CVS, and Starbucks are right up the street! So is the Lakewood Public Library and the Santa Fe Trail that leads you right to White Rock Lake! Enjoy the glass doors that open to a balcony overseeing the beautiful and easily accessible pool! My home is a LGBTQ and people of color affirming space.\n",
      "32.8106639925534\n",
      "-96.756590262582\n",
      "\n",
      "(0.16080989170544646, '17058')\n",
      "Dallas\n",
      "In the heart of historic Old East Dallas, this is a beautiful 1930’s Victorian apartment house that’s as classic as it is comfortable. Relax on the big, shared upstairs balcony with a cup of coffee or glass of wine overlooking sleepy Junius Street. Find original character everywhere with modern amenities like highspeed WiFi, Amazon Fire TV w/ Netflix and Hulu. Prime location near Downtown, Deep Ellum and Lower Greenville. Cafes, shopping, nightlife and restaurants are conveniently close.\n",
      "32.795928386191\n",
      "-96.7716865515425\n",
      "\n",
      "(0.15479289383844108, '1243')\n",
      "Dallas\n",
      "In the heart of historic Old East Dallas, this is a beautiful 1930’s Victorian apartment house that’s as classic as it is comfortable. Relax on the big, shared upstairs balcony with a cup of coffee or glass of wine overlooking sleepy Junius Street. Find original character everywhere with modern amenities like highspeed WiFi and Amazon Fire TV w/ Netflix and Hulu. Prime location near Downtown, Deep Ellum and Lower Greenville. Cafes, shopping, nightlife and restaurants are conveniently close.\n",
      "32.7963935721254\n",
      "-96.7717690173793\n",
      "\n",
      "(0.15090774604746593, '4451')\n",
      "Dallas\n",
      "My apartment is a cozy artist get away only a few minutes from nightlife, shopping and dinning in Deep Ellum, Lower Greenville, and downtown Dallas. Whole Foods, CVS, and Starbucks are right up the street! So is the Lakewood Public Library and the Santa Fe Trail that leads you right to White Rock Lake! Enjoy the glass doors that open to a balcony overseeing the beautiful and easily accessible pool! My home is a LGBTQ and people of color affirming space.\n",
      "32.8085129339755\n",
      "-96.7581887202232\n",
      "\n",
      "(0.15090774604746593, '16178')\n",
      "Dallas\n",
      "My apartment is a cozy artist get away only a few minutes from nightlife, shopping and dinning in Deep Ellum, Lower Greenville, and downtown Dallas. Whole Foods, CVS, and Starbucks are right up the street! So is the Lakewood Public Library and the Santa Fe Trail that leads you right to White Rock Lake! Enjoy the glass doors that open to a balcony overseeing the beautiful and easily accessible pool! My home is a LGBTQ and people of color affirming space.\n",
      "32.8085129339755\n",
      "-96.7581887202232\n",
      "\n"
     ]
    }
   ],
   "source": [
    "# todo: show top-k through pandas\n",
    "for md in topk_cos:\n",
    "    df = pd.read_csv(tsv_dir + 'doc_' + md[1] + '.tsv', sep='\\t', usecols=[2, 4, 5, 6])\n",
    "    print(md)\n",
    "    print(df.columns[0])\n",
    "    print(df.columns[1])\n",
    "    print(df.columns[2])\n",
    "    print(df.columns[3] + '\\n')"
   ]
  },
  {
   "cell_type": "markdown",
   "metadata": {},
   "source": [
    "# Step 4\n",
    "\n",
    "This is an example of how another feature of interest (Location in this case) could be combined to our previous \"ranking\" method. In fact, we could consider document cosine similarity as a good starting point to be enhanced with a new normalized index (to maintain consistency and still being able to compare the old and new ranks).\n",
    "\n",
    "Hence, we are going to ask user's preferred geographical position (city name) and, after computing the distances between user's position and each room ads. Considering that there's a inverse correlation between distance and the way we deal with ranking. On one hand, the higher the rank (cosine) is, the better it is. On the other hand, the lower the distance is, the better it is. For this reason, we're going to invert the normalized index obtained through distance calculations.\n",
    "\n",
    "The combination between this two normalized values (cosine similarity and distance) will be achieved through a weighted mean (https://en.wikipedia.org/wiki/Weighted_arithmetic_mean)\n",
    "\n",
    "Moreover, we decided to give more weight to distances in Step 4. Lastly, this could be considered like a small example of how much a feature could contribute to a decent ranking system, as an alternative to cut off a significant proportion of data (filtering). "
   ]
  },
  {
   "cell_type": "code",
   "execution_count": 187,
   "metadata": {},
   "outputs": [
    {
     "name": "stdout",
     "output_type": "stream",
     "text": [
      "Houston\n"
     ]
    }
   ],
   "source": [
    "# ask user's position to show him/her\n",
    "# the better place nearby\n",
    "u_pos = input()"
   ]
  },
  {
   "cell_type": "code",
   "execution_count": 188,
   "metadata": {},
   "outputs": [],
   "source": [
    "# get coords\n",
    "if not u_pos in geo2coords.keys():\n",
    "    print('This city is not supported!')\n",
    "\n",
    "coords = geo2coords[u_pos]"
   ]
  },
  {
   "cell_type": "code",
   "execution_count": 189,
   "metadata": {},
   "outputs": [
    {
     "name": "stdout",
     "output_type": "stream",
     "text": [
      "('29.8293522272149', '-95.0815494887563')\n"
     ]
    }
   ],
   "source": [
    "print(coords)"
   ]
  },
  {
   "cell_type": "code",
   "execution_count": 190,
   "metadata": {},
   "outputs": [],
   "source": [
    "distances = []\n",
    "\n",
    "# for each matching document\n",
    "for m in matching_docs:\n",
    "    \n",
    "    # get city and its coords\n",
    "    d_city = docid2geo[m]\n",
    "    d_coords = geo2coords[d_city]\n",
    "    \n",
    "    # computing distance between user's location\n",
    "    # and each document's one\n",
    "    dist = distance_function(coords, d_coords)\n",
    "    distances.append((dist, m, d_city))"
   ]
  },
  {
   "cell_type": "code",
   "execution_count": 191,
   "metadata": {},
   "outputs": [
    {
     "name": "stdout",
     "output_type": "stream",
     "text": [
      "[(261.00404694199005, '15417', 'Austin'), (369.64077265826234, '17058', 'Dallas'), (369.64077265826234, '16178', 'Dallas'), (369.64077265826234, '1243', 'Dallas'), (261.00404694199005, '7172', 'Austin'), (261.00404694199005, '8543', 'Austin'), (369.64077265826234, '4451', 'Dallas'), (369.64077265826234, '14105', 'Dallas'), (0.0, '5324', 'Houston')]\n",
      "9\n"
     ]
    }
   ],
   "source": [
    "print(distances)\n",
    "print(len(matching_docs))"
   ]
  },
  {
   "cell_type": "code",
   "execution_count": 198,
   "metadata": {},
   "outputs": [
    {
     "name": "stdout",
     "output_type": "stream",
     "text": [
      "[[0.722953200340271, 0.6076391339302063, 0.6076391339302063, 0.6076391339302063, 0.722953200340271, 0.722953200340271, 0.6076391339302063, 0.6076391339302063, 1.0]]\n",
      "1\n"
     ]
    }
   ],
   "source": [
    "distance_km = [x[0] for x in distances]\n",
    "\n",
    "# we need to invert the index as there's an inverse correlation\n",
    "# between the way we deal with our index from 0 to 1 and the distance \n",
    "distance_km_norm = 1.0 - normalized(np.asarray(distance_km, dtype=np.float32))\n",
    "\n",
    "print(distance_km_norm)\n",
    "print(len(distance_km_norm))"
   ]
  },
  {
   "cell_type": "code",
   "execution_count": 193,
   "metadata": {
    "scrolled": true
   },
   "outputs": [],
   "source": [
    "# merge cosine_similarity and distance\n",
    "matching_docs_ni = []\n",
    "\n",
    "# combining cosine_similarity and the new index\n",
    "for i in range(len(matching_docs_cos)):\n",
    "    m_doc = matching_docs_cos[i]\n",
    "    m_doc_id = m_doc[1]\n",
    "    \n",
    "    # cosine_similarity and normalized distance\n",
    "    m_doc_cos = m_doc[0]\n",
    "    dist_i = distance_km_norm[0][i]\n",
    "    \n",
    "    # weighted mean value\n",
    "    # giving more weight to the distance...\n",
    "    # ((w1 * x1) + (w2 * x2)) / (w1 + w2) \n",
    "    mean_v = ((m_doc_cos * 0.2) + (dist_i * 0.8))\n",
    "    matching_docs_ni.append((mean_v, m_doc_id))"
   ]
  },
  {
   "cell_type": "code",
   "execution_count": 194,
   "metadata": {},
   "outputs": [
    {
     "name": "stdout",
     "output_type": "stream",
     "text": [
      "[(0.8434101335737055, '5324'), (0.6573025188292254, '7172'), (0.6380986376923804, '8543'), (0.60854410948171, '16178'), (0.5424315696950692, '15417'), (0.523387765165096, '14105'), (0.5182732854852543, '17058'), (0.5170698859118533, '1243'), (0.5162928563536583, '4451')]\n"
     ]
    }
   ],
   "source": [
    "# creating heap structure\n",
    "heapq.heapify(matching_docs_ni)\n",
    "\n",
    "# showing the top-k where k = 10\n",
    "topk = heapq.nlargest(10, matching_docs_ni)\n",
    "print(topk)"
   ]
  },
  {
   "cell_type": "code",
   "execution_count": 195,
   "metadata": {},
   "outputs": [
    {
     "name": "stdout",
     "output_type": "stream",
     "text": [
      "(0.8434101335737055, '5324')\n",
      "Houston\n",
      "Contemporary styled apartment with a beautiful color scheme attached. Consists of 1 Bedroom (Master), Dining area, 2 balconies, Kitchen (Fully equipped), Living Room, and Bathroom with bath/shower combo and two sinks included. \\nLocated 24 miles from NRG Stadium; approximately 35 minutes away. \\nLocated 22 miles from Downtown Houston; approximately 32 minutes away.\n",
      "29.7320840939491\n",
      "-95.6537604044484\n",
      "\n",
      "(0.6573025188292254, '7172')\n",
      "Austin\n",
      "New contemporary apartment less than a mile from beautiful Lake Austin and a 15-20 minute drive to downtown Austin. Apartment features a living area, private bedroom with full bed, new queen sofa bed, private entrance and balcony.\n",
      "30.3455405518117\n",
      "-97.8594403179482\n",
      "\n",
      "(0.6380986376923804, '8543')\n",
      "Austin\n",
      "Beautiful 1 bed 1 bath apartment with balcony view AND garage parking. In downtown Austin! 5 min drive from 6th Street/ Town Lake, &amp; Rainey Street. Average cost for a RideShare if you don't have a car to downtown nightlife is $6.\n",
      "30.2861570183293\n",
      "-97.7475284766327\n",
      "\n",
      "(0.60854410948171, '16178')\n",
      "Dallas\n",
      "My apartment is a cozy artist get away only a few minutes from nightlife, shopping and dinning in Deep Ellum, Lower Greenville, and downtown Dallas. Whole Foods, CVS, and Starbucks are right up the street! So is the Lakewood Public Library and the Santa Fe Trail that leads you right to White Rock Lake! Enjoy the glass doors that open to a balcony overseeing the beautiful and easily accessible pool! My home is a LGBTQ and people of color affirming space.\n",
      "32.8085129339755\n",
      "-96.7581887202232\n",
      "\n",
      "(0.5424315696950692, '15417')\n",
      "Austin\n",
      "Large 1-bedroom apartment in the heart of South Austin. Beautiful view of downtown from balcony! Bus stop right across the street that will take you Dowtown/Zilker/Barton Springs. Bars and restaurants within walking distance. Quiet Complex w/parking.\n",
      "30.2361541000197\n",
      "-97.7829581256141\n",
      "\n",
      "(0.523387765165096, '14105')\n",
      "Dallas\n",
      "Our apartment is a cute artist get away only a few minutes from nightlife, shopping and dinning in Deep Ellum, Lower Greenville, and downtown Dallas. Whole Foods, CVS, and Starbucks are right up the street! So is the Lakewood Public Library and the Santa Fe Trail that leads you right to White Rock Lake! Enjoy the glass doors that open to a balcony overseeing the beautiful and easily accessible pool! My home is a LGBTQ and people of color affirming space.\n",
      "32.8106639925534\n",
      "-96.756590262582\n",
      "\n",
      "(0.5182732854852543, '17058')\n",
      "Dallas\n",
      "In the heart of historic Old East Dallas, this is a beautiful 1930’s Victorian apartment house that’s as classic as it is comfortable. Relax on the big, shared upstairs balcony with a cup of coffee or glass of wine overlooking sleepy Junius Street. Find original character everywhere with modern amenities like highspeed WiFi, Amazon Fire TV w/ Netflix and Hulu. Prime location near Downtown, Deep Ellum and Lower Greenville. Cafes, shopping, nightlife and restaurants are conveniently close.\n",
      "32.795928386191\n",
      "-96.7716865515425\n",
      "\n",
      "(0.5170698859118533, '1243')\n",
      "Dallas\n",
      "In the heart of historic Old East Dallas, this is a beautiful 1930’s Victorian apartment house that’s as classic as it is comfortable. Relax on the big, shared upstairs balcony with a cup of coffee or glass of wine overlooking sleepy Junius Street. Find original character everywhere with modern amenities like highspeed WiFi and Amazon Fire TV w/ Netflix and Hulu. Prime location near Downtown, Deep Ellum and Lower Greenville. Cafes, shopping, nightlife and restaurants are conveniently close.\n",
      "32.7963935721254\n",
      "-96.7717690173793\n",
      "\n",
      "(0.5162928563536583, '4451')\n",
      "Dallas\n",
      "My apartment is a cozy artist get away only a few minutes from nightlife, shopping and dinning in Deep Ellum, Lower Greenville, and downtown Dallas. Whole Foods, CVS, and Starbucks are right up the street! So is the Lakewood Public Library and the Santa Fe Trail that leads you right to White Rock Lake! Enjoy the glass doors that open to a balcony overseeing the beautiful and easily accessible pool! My home is a LGBTQ and people of color affirming space.\n",
      "32.8085129339755\n",
      "-96.7581887202232\n",
      "\n"
     ]
    }
   ],
   "source": [
    "# todo: visualize data with pandas\n",
    "for md in topk:\n",
    "    df = pd.read_csv(tsv_dir + 'doc_' + md[1] + '.tsv', sep='\\t', usecols=[2, 4, 5, 6])\n",
    "    print(md)\n",
    "    print(df.columns[0])\n",
    "    print(df.columns[1])\n",
    "    print(df.columns[2])\n",
    "    print(df.columns[3] + '\\n')"
   ]
  }
 ],
 "metadata": {
  "kernelspec": {
   "display_name": "Python 3",
   "language": "python",
   "name": "python3"
  },
  "language_info": {
   "codemirror_mode": {
    "name": "ipython",
    "version": 3
   },
   "file_extension": ".py",
   "mimetype": "text/x-python",
   "name": "python",
   "nbconvert_exporter": "python",
   "pygments_lexer": "ipython3",
   "version": "3.7.0"
  }
 },
 "nbformat": 4,
 "nbformat_minor": 2
}
