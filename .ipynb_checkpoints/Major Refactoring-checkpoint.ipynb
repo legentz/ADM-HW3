{
 "cells": [
  {
   "cell_type": "markdown",
   "metadata": {},
   "source": [
    "# Step 1 & 2"
   ]
  },
  {
   "cell_type": "code",
   "execution_count": 22,
   "metadata": {},
   "outputs": [],
   "source": [
    "# imports\n",
    "import csv\n",
    "import heapq\n",
    "import pandas as pd\n",
    "import numpy as np\n",
    "import math\n",
    "\n",
    "# utils\n",
    "from utils import normalized\n",
    "from utils import preprocessing_nltk\n",
    "from utils import compute_tfidf\n",
    "from utils import cosine_similarity\n",
    "from utils import distance_function\n",
    "\n",
    "# globals\n",
    "base_dir = './data/'\n",
    "tsv_dir = base_dir + 'tsv/'\n",
    "dataset = base_dir + 'Airbnb_Texas_Rentals.csv'"
   ]
  },
  {
   "cell_type": "code",
   "execution_count": 4,
   "metadata": {},
   "outputs": [],
   "source": [
    "# the list of words contained in a document\n",
    "# it simply is the document content\n",
    "docid2words = {}\n",
    "\n",
    "# vocabulary\n",
    "word2id = {}\n",
    "\n",
    "# documents that contain a precise word\n",
    "word2docid = {}\n",
    "\n",
    "# a collection of city, coords and document id\n",
    "geo2coords = {}\n",
    "\n",
    "# document id related to the city name\n",
    "docid2geo = {}\n",
    "\n",
    "# processing the main .csv and creating a no. of .tsv\n",
    "with open(dataset, 'r') as csvfile:\n",
    "    csvreader = csv.reader(csvfile, delimiter=',', quotechar='\"')\n",
    "    \n",
    "    # extracting data from each line\n",
    "    for i, elems in enumerate(csvreader): # line\n",
    "    \n",
    "        # skip the first line as we're dealing with a .csv\n",
    "        if i == 0: continue\n",
    "        \n",
    "        # file index\n",
    "        index = elems[0]\n",
    "\n",
    "        # geo (coords and city)\n",
    "        coords = (elems[6], elems[7])\n",
    "        city = elems[3]\n",
    "        \n",
    "        # docid2geo\n",
    "        docid2geo[index] = city\n",
    "        \n",
    "        if not city in geo2coords.keys():\n",
    "            geo2coords[city] = coords\n",
    "        else:\n",
    "            lat, lng = geo2coords[city]\n",
    "            if lat == 'NA' or lng == 'NA':\n",
    "                geo2coords[city] = coords\n",
    "        \n",
    "        # preprocessing\n",
    "        descr = preprocessing_nltk(elems[5])\n",
    "        title = preprocessing_nltk(elems[8])\n",
    "        \n",
    "        # docid2words\n",
    "        docid2words[index] = []\n",
    "        docid2words[index].extend(descr)\n",
    "        docid2words[index].extend(title)\n",
    "        \n",
    "        # word2id\n",
    "        for word in docid2words[index]:\n",
    "            if not word in word2id.keys(): \n",
    "                word2id[word] = len(word2id.keys())\n",
    "        \n",
    "        # word2docid\n",
    "        for word in docid2words[index]:\n",
    "            if not word in word2docid.keys():\n",
    "                word2docid[word] = set(index)\n",
    "            else:\n",
    "                word2docid[word].add(index)\n",
    "        \n",
    "        # produce tsv\n",
    "        # put .tsv files into 'tsv' folder (that already has to exist)\n",
    "        with open(tsv_dir + 'doc_' + index + '.tsv', 'w') as doc_out:\n",
    "            doc_out.write('\\t'.join(elems[1:]))"
   ]
  },
  {
   "cell_type": "code",
   "execution_count": 5,
   "metadata": {},
   "outputs": [],
   "source": [
    "# inverse index\n",
    "word2docid_tfidf = {}\n",
    "\n",
    "# docid2word_tfidf\n",
    "docid2word_tfidf = {}\n",
    "\n",
    "# create inverse index with tfidf\n",
    "for w, docs in word2docid.items():\n",
    "    \n",
    "    # skip in case we have it already\n",
    "    if w in word2docid_tfidf.keys(): continue\n",
    "    \n",
    "    # empty list (of future tuples)\n",
    "    word2docid_tfidf[w] = []\n",
    "    \n",
    "    # for each document that contains w\n",
    "    for d in docs:\n",
    "        \n",
    "        # create an empty structure if it's the first match\n",
    "        if not d in docid2word_tfidf.keys():\n",
    "            docid2word_tfidf[d] = {}\n",
    "        \n",
    "        # get document words (content)\n",
    "        if not d in docid2words.keys(): continue\n",
    "        content = docid2words[d]\n",
    "        \n",
    "        # used for tfidf\n",
    "        word_freq = content.count(w)\n",
    "        n_words_doc = len(content)\n",
    "        n_docs = len(docid2words.keys())\n",
    "        n_docs_with_word = len(docs)\n",
    "        \n",
    "        # compute tfidf\n",
    "        tfidf = compute_tfidf(word_freq, n_words_doc, n_docs, n_docs_with_word)\n",
    "        \n",
    "        # fill the vector\n",
    "        word2docid_tfidf[w].append((d, tfidf))\n",
    "        docid2word_tfidf[d][w] = tfidf"
   ]
  },
  {
   "cell_type": "code",
   "execution_count": 6,
   "metadata": {},
   "outputs": [
    {
     "name": "stdout",
     "output_type": "stream",
     "text": [
      "18252\n",
      "18259\n",
      "{'privat': 0.18738656253333066, 'cozi': 0.13566814294526974}\n"
     ]
    }
   ],
   "source": [
    "# fix not matching results -> 18252 - 18259\n",
    "print(len(set(docid2word_tfidf.keys())))\n",
    "print(len(set(docid2words.keys())))\n",
    "print(docid2word_tfidf['10'])"
   ]
  },
  {
   "cell_type": "code",
   "execution_count": 7,
   "metadata": {},
   "outputs": [],
   "source": [
    "# computing document vectors\n",
    "docid2vec = {}\n",
    "\n",
    "# todo: use numpy\n",
    "for d, doc_words in docid2words.items():\n",
    "    \n",
    "    # skip if we have it already\n",
    "    if d in docid2vec.keys(): continue\n",
    "    \n",
    "    # empty vector\n",
    "    docid2vec[d] = []\n",
    "    \n",
    "    for w in word2id.keys():\n",
    "        \n",
    "        # if that word is the selected doc\n",
    "        if w in doc_words:\n",
    "            \n",
    "            # todo: fix\n",
    "            # skip if missing\n",
    "            if not d in docid2word_tfidf.keys():\n",
    "                continue\n",
    "            if not w in docid2word_tfidf[d]:\n",
    "                docid2vec[d].append(0.0)\n",
    "                continue\n",
    "            docid2vec[d].append(docid2word_tfidf[d][w])\n",
    "            \n",
    "        # else, fill with zeros    \n",
    "        else: \n",
    "            docid2vec[d].append(0.0)"
   ]
  },
  {
   "cell_type": "code",
   "execution_count": 8,
   "metadata": {},
   "outputs": [
    {
     "name": "stdout",
     "output_type": "stream",
     "text": [
      "10127\n"
     ]
    }
   ],
   "source": [
    "print(len(docid2vec['999']))"
   ]
  },
  {
   "cell_type": "markdown",
   "metadata": {},
   "source": [
    "# Step 3"
   ]
  },
  {
   "cell_type": "code",
   "execution_count": 9,
   "metadata": {},
   "outputs": [
    {
     "name": "stdout",
     "output_type": "stream",
     "text": [
      "a luxurious apartment downtown with pool\n",
      "['luxuri', 'apart', 'downtown', 'pool']\n"
     ]
    }
   ],
   "source": [
    "# ask user\n",
    "query = input()\n",
    "query = preprocessing_nltk(query)\n",
    "\n",
    "print(query)"
   ]
  },
  {
   "cell_type": "code",
   "execution_count": 11,
   "metadata": {},
   "outputs": [],
   "source": [
    "# build user input query vector\n",
    "uiq_vec = []\n",
    "\n",
    "for w in word2docid:\n",
    "    if not w in query:\n",
    "        uiq_vec.append(0.0)\n",
    "    else:\n",
    "        # tfidf\n",
    "        # tf = query.count(w) / len(query)\n",
    "        # idf = math.log10(len(docid2words.keys()) / len(word2docid[w]))\n",
    "        tfidf = compute_tfidf(query.count(w), len(query), len(docid2words.keys()), len(word2docid[w]))\n",
    "        uiq_vec.append(tfidf)"
   ]
  },
  {
   "cell_type": "code",
   "execution_count": 12,
   "metadata": {},
   "outputs": [
    {
     "name": "stdout",
     "output_type": "stream",
     "text": [
      "10127\n",
      "10127\n"
     ]
    }
   ],
   "source": [
    "print(len(uiq_vec))\n",
    "print(len(word2docid.keys()))"
   ]
  },
  {
   "cell_type": "code",
   "execution_count": 13,
   "metadata": {},
   "outputs": [
    {
     "name": "stdout",
     "output_type": "stream",
     "text": [
      "31\n",
      "['13864', '13503', '8379', '17952', '1474', '9168', '14033', '13200', '11837', '8447', '14760', '14159', '7393', '10842', '13605', '13438', '3775', '9894', '14689', '8959', '8757', '637', '16102', '18203', '1066', '5435', '10989', '17933', '4584', '11764', '2552']\n"
     ]
    }
   ],
   "source": [
    "# here we are taking a list of documents numbers for each word in user query and\n",
    "# intersect these lists to receive only the numbers of documents which contain all of these query words.\n",
    "sets = []\n",
    "\n",
    "for q in query:\n",
    "    sets.append(word2docid.get(q) or set())\n",
    "matching_docs = list(set.intersection(*sets))\n",
    "\n",
    "print(len(matching_docs))\n",
    "print(matching_docs)"
   ]
  },
  {
   "cell_type": "code",
   "execution_count": 14,
   "metadata": {},
   "outputs": [
    {
     "name": "stdout",
     "output_type": "stream",
     "text": [
      "13864\n",
      "Austin\n",
      "Quiet relax atmosphere just 10 minutes from downtown. 1 bed room 1 bath with washer dryer included,queen bed everything all white, balcony, 17ft tall ceilings, garden tub separate from shower. Privacy and quite neighbors, own desires parking spot. Pets welcome, gym open anytime with lap pool, tv outside and bar b q pit.\n",
      "30.2589482442465\n",
      "-97.8628891451995\n",
      "\n",
      "13503\n",
      "Dallas\n",
      "Luxury 1 bedroom/1 bath apartment in the heart of Downtown Dallas. Comes with full kitchen, wash &amp; dryer(in unit), queen bed, Wifi, flat screen TV's with cable. Walking distance to shopping, dining, pick-up orders and convenience stores. Affordable Uber rates to nightlife an tourist attractions.\\n\\nBuilding Amenities\\n*Rooftop Pool(6am-Midight)\\n*Community Area(6am-Midnight)\\n*4th Floor Atrium(6am-Midnight)\\n*Parking Garage(1 assigned spot)\\n*Elevators\\n*Mexican Restaurant\\n*Luxury Nail Spa(coming soon)\n",
      "32.7823823267092\n",
      "-96.7994883089144\n",
      "\n",
      "8379\n",
      "Dallas\n",
      "Click on my profile to check out my 2 other Downtown Dallas apartments: Another 1-bedroom apartment &amp; a 2-bedrooms apartment\\n\\nYou are looking at the beautiful high-rise suite right at the heart of Downtown Dallas. You can certainly walk to almost everything you need from high-end restaurants to parks, shopping, and tourist destinations. It offers a fully equipped kitchen, stainless steel appliances, hardwood flooring, in-home washer and dryer, beautiful pool, fitness center, and sundeck.\n",
      "32.7826691757887\n",
      "-96.7983873869442\n",
      "\n",
      "17952\n",
      "Houston\n",
      "Treat yourself to this luxurious one bedroom guest suite (620sf) in the heart of Montrose. Located in a contemporary home designed by one of Houston's premier architects. Private elevator entrance and access to a sunroom and beautiful pool. It is close to the downtown, midtown, parks, art and culture, great restaurants and dining. Secure property with covered parking, CCTV, electronic access. Great corporate apartment with weekly housekeeping and in unit washer/dryer.\\n.\n",
      "29.7472366587193\n",
      "-95.3866645277486\n",
      "\n",
      "1474\n",
      "Fort Worth\n",
      "Lincoln Park at Trinity Bluff is a stylish, innovative and forward-thinking apartment complex. This mid-rise community is within walking distance to downtown yet it has a uniquely suburban neighborhood feel. The exterior of these homes are set along tree-lined streets and at the center of the community is an expansive and luxurious swimming pool and courtyard. From your home enjoy stunning vistas including of the river and the downtown Fort Worth skyline.\n",
      "32.7632731634552\n",
      "-97.3293526338072\n",
      "\n",
      "9168\n",
      "Fort Worth\n",
      "Lincoln Park at Trinity Bluff is a stylish, innovative and forward-thinking apartment complex. This mid-rise community is within walking distance to downtown yet it has a uniquely suburban neighborhood feel. The exterior of these homes are set along tree-lined streets and at the center of the community is an expansive and luxurious swimming pool and courtyard. From your home enjoy stunning vistas including of the river and the downtown Fort Worth skyline.\n",
      "32.7632731634552\n",
      "-97.3293526338072\n",
      "\n",
      "14033\n",
      "Dallas\n",
      "Luxury 1 bedroom/1 bath apartment in the heart of Downtown Dallas. Comes with full kitchen, wash &amp; dryer(in unit), queen bed, Wifi, flat screen TV's with cable. Walking distance to shopping, dining, pick-up orders and convenience stores. Affordable Uber rates to nightlife an tourist attractions.\\n\\nBuilding Amenities\\n*Rooftop Pool(6am-Midight)\\n*Community Area(6am-Midnight)\\n*4th Floor Atrium(6am-Midnight)\\n*Parking Garage(1 assigned spot)\\n*Elevators\\n*Mexican Restaurant\\n*Luxury Nail Spa(coming soon)\n",
      "32.7823823267092\n",
      "-96.7994883089144\n",
      "\n",
      "13200\n",
      "Dallas\n",
      "Modern, upscale 2-bedrooms and 2-bathrooms fully equipped apartment is in the heart of downtown Dallas near restaurants, shopping, and many more attractions Dallas has to offer just outside the front door. You can certainly walk to almost everything. The apartment offers a fully equipped kitchen, stainless steel appliances, coffee maker with K-cups, in-home washer and dryer, fresh towels, bathroom essentials, beautiful rooftop pool, fitness center, and sleep up to 7 people.\n",
      "32.7811152594609\n",
      "-96.7978716653662\n",
      "\n",
      "11837\n",
      "Dallas\n",
      "Modern, upscale 2-bedrooms and 2-bathrooms fully equipped apartment is in the heart of downtown Dallas near restaurants, shopping, and many more attractions Dallas has to offer just outside the front door. You can certainly walk to almost everything. The apartment offers a fully equipped kitchen, stainless steel appliances, coffee maker with K-cups, in-home washer and dryer, fresh towels, bathroom essentials, beautiful rooftop pool, fitness center, and sleep up to 7 people.\n",
      "32.7811152594609\n",
      "-96.7978716653662\n",
      "\n",
      "8447\n",
      "Dallas\n",
      "Click on my profile to check out my 2 other Downtown Dallas apartments: Another 1-bedroom apartment &amp; a 2-bedrooms apartment\\n\\nYou are looking at the beautiful high-rise suite right at the heart of Downtown Dallas. You can certainly walk to almost everything you need from high-end restaurants to parks, shopping, and tourist destinations. It offers a fully equipped kitchen, stainless steel appliances, hardwood flooring, in-home washer and dryer, beautiful pool, fitness center, and sundeck.\n",
      "32.7826691757887\n",
      "-96.7983873869442\n",
      "\n",
      "14760\n",
      "San Antonio\n",
      "Please be our guest in a beautiful private apartment appointed with new queen mattress and luxurious bedding, Roku TV, desk &amp; wifi access. Brand new kitchen/bath/flooring and Mexican Colonial decor. Secluded private patio and native garden. Five minutes to the quirky shops, museums &amp; restaurants of Downtown, Southtown, and the Pearl. Woodlawn Lake, with jogging trails, exercise stations, seasonal pool, tennis courts, casting pond and relaxing sights is just a 2 minute walk out the gate.\n",
      "29.45707040814\n",
      "-98.5327913215451\n",
      "\n",
      "14159\n",
      "Dallas\n",
      "Click on my profile to check out my 2 other Downtown Dallas apartments: Another 1-bedroom apartment &amp; a 2-bedrooms apartment\\n\\nYou are looking at the beautiful high-rise suite right at the heart of Downtown Dallas. You can certainly walk to almost everything you need from high-end restaurants to parks, shopping, and tourist destinations. It offers a fully equipped kitchen, stainless steel appliances, hardwood flooring, in-home washer and dryer, beautiful pool, fitness center, and sundeck.\n",
      "32.7826691757887\n",
      "-96.7983873869442\n",
      "\n",
      "7393\n",
      "Little Elm\n",
      "Beautiful 3 bedroom 2 bath Luxury Apartment Located 30 minutes from downtown Dallas and very close to dining and shopping. This is a gated community and the amenities include; Washer and dryer, Full size jacuzzi tub, 24 Gym access, Infiniti swimming pool, private garage access, patio, and full size closets in each room.\n",
      "33.2167456954796\n",
      "-96.908854561541\n",
      "\n",
      "10842\n",
      "San Antonio\n",
      "La Cantera is the area surrounding Éilan. It offers easy access to shopping, championship golf courses, Sea World, &amp; Six Flags Fiesta Texas theme park. Also only minutes to downtown San Antonio! There is a full-size front load washer and dryer, gas cook top range, granite counter tops. There are several pools and a hot tub, a sprawling Fitness Center. On location are Ruths Chris Steak House, Piatti Italian Restaurant, Juicessential, Georges Keep Bar, and Sustenio restaurant.\n",
      "29.6112170413422\n",
      "-98.6084287782627\n",
      "\n",
      "13605\n",
      "Dallas\n",
      "Click on my profile to check out my 2 other Downtown Dallas apartments: Another 1-bedroom apartment &amp; a 2-bedrooms apartment\\n\\nYou are looking at an elegant 1-bedroom condo right at the heart of Downtown Dallas. You can certainly walk to almost everything you need from high-end restaurants to parks, shopping, and tourist destinations. It offers a fully equipped kitchen, stainless steel appliances, hardwood flooring, in-home washer and dryer, beautiful pool, fitness center, and sundeck.\n",
      "32.7811505339719\n",
      "-96.7962264677446\n",
      "\n",
      "13438\n",
      "Little Elm\n",
      "Beautiful 3 bedroom 2 bath Luxury Apartment Located 30 minutes from downtown Dallas and very close to dining and shopping. This is a gated community and the amenities include; Washer and dryer, Full size jacuzzi tub, 24 Gym access, Infiniti swimming pool, private garage access, patio, and full size closets in each room.\n",
      "33.2167456954796\n",
      "-96.908854561541\n",
      "\n",
      "3775\n",
      "Fort Worth\n",
      "Lincoln Park at Trinity Bluff is a stylish, innovative and forward-thinking apartment complex. This mid-rise community is within walking distance to downtown yet it has a uniquely suburban neighborhood feel. The exterior of these homes are set along tree-lined streets and at the center of the community is an expansive and luxurious swimming pool and courtyard. From your home enjoy stunning vistas including of the river and the downtown Fort Worth skyline.\n",
      "32.7632731634552\n",
      "-97.3293526338072\n",
      "\n",
      "9894\n",
      "Dallas\n",
      "Luxury 1 bedroom/1 bath apartment in the heart of Downtown Dallas. Comes with full kitchen, wash &amp; dryer(in unit), queen bed, Wifi, flat screen TV's with cable. Walking distance to shopping, dining, pick-up orders and convenience stores. Affordable Uber rates to nightlife an tourist attractions.\\n\\nBuilding Amenities\\n*Rooftop Pool(6am-Midight)\\n*Community Area(6am-Midnight)\\n*4th Floor Atrium(6am-Midnight)\\n*Parking Garage(1 assigned spot)\\n*Elevators\\n*Mexican Restaurant\\n*Luxury Nail Spa(coming soon)\n",
      "32.7823823267092\n",
      "-96.7994883089144\n",
      "\n",
      "14689\n",
      "Dallas\n",
      "Click on my profile to check out my 2 other Downtown Dallas apartments: Another 1-bedroom apartment &amp; a 2-bedrooms apartment\\n\\nYou are looking at the beautiful high-rise suite right at the heart of Downtown Dallas. You can certainly walk to almost everything you need from high-end restaurants to parks, shopping, and tourist destinations. It offers a fully equipped kitchen, stainless steel appliances, hardwood flooring, in-home washer and dryer, beautiful pool, fitness center, and sundeck.\n",
      "32.7826691757887\n",
      "-96.7983873869442\n",
      "\n",
      "8959\n",
      "San Antonio\n",
      "La Cantera is the area surrounding Éilan. It offers easy access to shopping, championship golf courses, Sea World, &amp; Six Flags Fiesta Texas theme park. Also only minutes to downtown San Antonio! There is a full-size front load washer and dryer, gas cook top range, granite counter tops. There are several pools and a hot tub, a sprawling Fitness Center. On location are Ruths Chris Steak House, Piatti Italian Restaurant, Juicessential, Georges Keep Bar, and Sustenio restaurant.\n",
      "29.6112170413422\n",
      "-98.6084287782627\n",
      "\n",
      "8757\n",
      "San Antonio\n",
      "This is a Luxury apartment located in a growing and popular area of San Antonio adjacent to Fiesta Texas, the Shops at La Cantera, across the highway from the RIM and Just a short 15 minute (straight shot) drive to downtown. This is a 1 bedroom 1 bath with resort style and infinity pools. The view from my balcony is absolutely stunning: hill-country plus pool view. It is also walking distance to all amenities.\n",
      "29.6206575542356\n",
      "-98.6172513177697\n",
      "\n",
      "637\n",
      "Austin\n",
      "Quiet relax atmosphere just 10 minutes from downtown. 1 bed room 1 bath with washer dryer included,queen bed everything all white, balcony, 17ft tall ceilings, garden tub separate from shower. Privacy and quite neighbors, own desires parking spot. Pets welcome, gym open anytime with lap pool, tv outside and bar b q pit.\n",
      "30.2589482442465\n",
      "-97.8628891451995\n",
      "\n",
      "16102\n",
      "San Antonio\n",
      "****WARNING: The pool and hot tub might be closed on June 28 or June 29 for cleaning.****\\n\\nThis elegant downtown apartment will give you a feeling of relaxation, splendor, &amp; locality of Downtown San Antonio. You can certainly walk to almost everything you need from high-end restaurants to parks, shopping, and tourist destinations.\n",
      "29.426272131585\n",
      "-98.4943637611107\n",
      "\n",
      "18203\n",
      "Dallas\n",
      "Click on my profile to check out my 2 other Downtown Dallas apartments: Another 1-bedroom apartment &amp; a 2-bedrooms apartment\\n\\nYou are looking at an elegant 1-bedroom condo right at the heart of Downtown Dallas. You can certainly walk to almost everything you need from high-end restaurants to parks, shopping, and tourist destinations. It offers a fully equipped kitchen, stainless steel appliances, hardwood flooring, in-home washer and dryer, beautiful pool, fitness center, and sundeck.\n",
      "32.7811505339719\n",
      "-96.7962264677446\n",
      "\n",
      "1066\n",
      "Houston\n",
      "Treat yourself to this luxurious one bedroom guest suite (620sf) in the heart of Montrose. Located in a contemporary home designed by one of Houston's premier architects. Private elevator entrance and access to a sunroom and beautiful pool. It is close to the downtown, midtown, parks, art and culture, great restaurants and dining. Secure property with covered parking, CCTV, electronic access. Great corporate apartment with weekly housekeeping and in unit washer/dryer.\\n.\n",
      "29.7472366587193\n",
      "-95.3866645277486\n",
      "\n",
      "5435\n",
      "Dallas\n",
      "Click on my profile to check out my 2 other Downtown Dallas apartments: Another 1-bedroom apartment &amp; a 2-bedrooms apartment\\n\\nYou are looking at an elegant 1-bedroom condo right at the heart of Downtown Dallas. You can certainly walk to almost everything you need from high-end restaurants to parks, shopping, and tourist destinations. It offers a fully equipped kitchen, stainless steel appliances, hardwood flooring, in-home washer and dryer, beautiful pool, fitness center, and sundeck.\n",
      "32.7811505339719\n",
      "-96.7962264677446\n",
      "\n",
      "10989\n",
      "Dallas\n",
      "Click on my profile to check out my 2 other Downtown Dallas apartments: Another 1-bedroom apartment &amp; a 2-bedrooms apartment\\n\\nYou are looking at an elegant 1-bedroom condo right at the heart of Downtown Dallas. You can certainly walk to almost everything you need from high-end restaurants to parks, shopping, and tourist destinations. It offers a fully equipped kitchen, stainless steel appliances, hardwood flooring, in-home washer and dryer, beautiful pool, fitness center, and sundeck.\n",
      "32.7811505339719\n",
      "-96.7962264677446\n",
      "\n",
      "17933\n",
      "Dallas\n",
      "Modern, upscale 2-bedrooms and 2-bathrooms fully equipped apartment is in the heart of downtown Dallas near restaurants, shopping, and many more attractions Dallas has to offer just outside the front door. You can certainly walk to almost everything. The apartment offers a fully equipped kitchen, stainless steel appliances, coffee maker with K-cups, in-home washer and dryer, fresh towels, bathroom essentials, beautiful rooftop pool, fitness center, and sleep up to 7 people.\n",
      "32.7811152594609\n",
      "-96.7978716653662\n",
      "\n",
      "4584\n",
      "San Antonio\n",
      "****WARNING: The pool and hot tub might be closed on June 28 or June 29 for cleaning.****\\n\\nThis elegant downtown apartment will give you a feeling of relaxation, splendor, &amp; locality of Downtown San Antonio. You can certainly walk to almost everything you need from high-end restaurants to parks, shopping, and tourist destinations.\n",
      "29.426272131585\n",
      "-98.4943637611107\n",
      "\n",
      "11764\n",
      "Fort Worth\n",
      "Lincoln Park at Trinity Bluff is a stylish, innovative and forward-thinking apartment complex. This mid-rise community is within walking distance to downtown yet it has a uniquely suburban neighborhood feel. The exterior of these homes are set along tree-lined streets and at the center of the community is an expansive and luxurious swimming pool and courtyard. From your home enjoy stunning vistas including of the river and the downtown Fort Worth skyline.\n",
      "32.7632731634552\n",
      "-97.3293526338072\n",
      "\n",
      "2552\n",
      "Austin\n",
      "Spacious apartment in a safe and friendly North Austin community. 15mins from downtown &amp; 6th street with plenty of surrounding restaurants, stores, and attractions. Pool and 24 hour-fitness center access\n",
      "30.3812545540728\n",
      "-97.6502337849287\n",
      "\n"
     ]
    }
   ],
   "source": [
    "# todo: show matching_docs through pandas\n",
    "for md in matching_docs:\n",
    "    df = pd.read_csv(tsv_dir + 'doc_' + md + '.tsv', sep='\\t', usecols=[2, 4, 5, 6])\n",
    "    print(md)\n",
    "    print(df.columns[0])\n",
    "    print(df.columns[1])\n",
    "    print(df.columns[2])\n",
    "    print(df.columns[3] + '\\n')"
   ]
  },
  {
   "cell_type": "code",
   "execution_count": 15,
   "metadata": {},
   "outputs": [],
   "source": [
    "matching_docs_cos = []\n",
    "\n",
    "# to test it all over the docs -> docid2vec.keys()\n",
    "for d in matching_docs:\n",
    "    if len(uiq_vec) == len(docid2vec[d]):\n",
    "        matching_docs_cos.append((cosine_similarity(uiq_vec, docid2vec[d]), d))"
   ]
  },
  {
   "cell_type": "code",
   "execution_count": 16,
   "metadata": {},
   "outputs": [
    {
     "name": "stdout",
     "output_type": "stream",
     "text": [
      "[(0.4217916073233887, '2552'), (0.39311661489020255, '7393'), (0.39311661489020255, '13438'), (0.3279227638513016, '8757'), (0.2965393840458528, '8447'), (0.2965393840458528, '8379'), (0.2965393840458528, '14689'), (0.2965393840458528, '14159'), (0.2874108167252869, '17933'), (0.2874108167252869, '13200')]\n"
     ]
    }
   ],
   "source": [
    "# creating heap structure\n",
    "heapq.heapify(matching_docs_cos)\n",
    "\n",
    "# showing the top-k where k = 10\n",
    "topk_cos = heapq.nlargest(10, matching_docs_cos)\n",
    "print(topk_cos)"
   ]
  },
  {
   "cell_type": "code",
   "execution_count": 17,
   "metadata": {},
   "outputs": [
    {
     "name": "stdout",
     "output_type": "stream",
     "text": [
      "(0.4217916073233887, '2552')\n",
      "Austin\n",
      "Spacious apartment in a safe and friendly North Austin community. 15mins from downtown &amp; 6th street with plenty of surrounding restaurants, stores, and attractions. Pool and 24 hour-fitness center access\n",
      "30.3812545540728\n",
      "-97.6502337849287\n",
      "\n",
      "(0.39311661489020255, '7393')\n",
      "Little Elm\n",
      "Beautiful 3 bedroom 2 bath Luxury Apartment Located 30 minutes from downtown Dallas and very close to dining and shopping. This is a gated community and the amenities include; Washer and dryer, Full size jacuzzi tub, 24 Gym access, Infiniti swimming pool, private garage access, patio, and full size closets in each room.\n",
      "33.2167456954796\n",
      "-96.908854561541\n",
      "\n",
      "(0.39311661489020255, '13438')\n",
      "Little Elm\n",
      "Beautiful 3 bedroom 2 bath Luxury Apartment Located 30 minutes from downtown Dallas and very close to dining and shopping. This is a gated community and the amenities include; Washer and dryer, Full size jacuzzi tub, 24 Gym access, Infiniti swimming pool, private garage access, patio, and full size closets in each room.\n",
      "33.2167456954796\n",
      "-96.908854561541\n",
      "\n",
      "(0.3279227638513016, '8757')\n",
      "San Antonio\n",
      "This is a Luxury apartment located in a growing and popular area of San Antonio adjacent to Fiesta Texas, the Shops at La Cantera, across the highway from the RIM and Just a short 15 minute (straight shot) drive to downtown. This is a 1 bedroom 1 bath with resort style and infinity pools. The view from my balcony is absolutely stunning: hill-country plus pool view. It is also walking distance to all amenities.\n",
      "29.6206575542356\n",
      "-98.6172513177697\n",
      "\n",
      "(0.2965393840458528, '8447')\n",
      "Dallas\n",
      "Click on my profile to check out my 2 other Downtown Dallas apartments: Another 1-bedroom apartment &amp; a 2-bedrooms apartment\\n\\nYou are looking at the beautiful high-rise suite right at the heart of Downtown Dallas. You can certainly walk to almost everything you need from high-end restaurants to parks, shopping, and tourist destinations. It offers a fully equipped kitchen, stainless steel appliances, hardwood flooring, in-home washer and dryer, beautiful pool, fitness center, and sundeck.\n",
      "32.7826691757887\n",
      "-96.7983873869442\n",
      "\n",
      "(0.2965393840458528, '8379')\n",
      "Dallas\n",
      "Click on my profile to check out my 2 other Downtown Dallas apartments: Another 1-bedroom apartment &amp; a 2-bedrooms apartment\\n\\nYou are looking at the beautiful high-rise suite right at the heart of Downtown Dallas. You can certainly walk to almost everything you need from high-end restaurants to parks, shopping, and tourist destinations. It offers a fully equipped kitchen, stainless steel appliances, hardwood flooring, in-home washer and dryer, beautiful pool, fitness center, and sundeck.\n",
      "32.7826691757887\n",
      "-96.7983873869442\n",
      "\n",
      "(0.2965393840458528, '14689')\n",
      "Dallas\n",
      "Click on my profile to check out my 2 other Downtown Dallas apartments: Another 1-bedroom apartment &amp; a 2-bedrooms apartment\\n\\nYou are looking at the beautiful high-rise suite right at the heart of Downtown Dallas. You can certainly walk to almost everything you need from high-end restaurants to parks, shopping, and tourist destinations. It offers a fully equipped kitchen, stainless steel appliances, hardwood flooring, in-home washer and dryer, beautiful pool, fitness center, and sundeck.\n",
      "32.7826691757887\n",
      "-96.7983873869442\n",
      "\n",
      "(0.2965393840458528, '14159')\n",
      "Dallas\n",
      "Click on my profile to check out my 2 other Downtown Dallas apartments: Another 1-bedroom apartment &amp; a 2-bedrooms apartment\\n\\nYou are looking at the beautiful high-rise suite right at the heart of Downtown Dallas. You can certainly walk to almost everything you need from high-end restaurants to parks, shopping, and tourist destinations. It offers a fully equipped kitchen, stainless steel appliances, hardwood flooring, in-home washer and dryer, beautiful pool, fitness center, and sundeck.\n",
      "32.7826691757887\n",
      "-96.7983873869442\n",
      "\n",
      "(0.2874108167252869, '17933')\n",
      "Dallas\n",
      "Modern, upscale 2-bedrooms and 2-bathrooms fully equipped apartment is in the heart of downtown Dallas near restaurants, shopping, and many more attractions Dallas has to offer just outside the front door. You can certainly walk to almost everything. The apartment offers a fully equipped kitchen, stainless steel appliances, coffee maker with K-cups, in-home washer and dryer, fresh towels, bathroom essentials, beautiful rooftop pool, fitness center, and sleep up to 7 people.\n",
      "32.7811152594609\n",
      "-96.7978716653662\n",
      "\n",
      "(0.2874108167252869, '13200')\n",
      "Dallas\n",
      "Modern, upscale 2-bedrooms and 2-bathrooms fully equipped apartment is in the heart of downtown Dallas near restaurants, shopping, and many more attractions Dallas has to offer just outside the front door. You can certainly walk to almost everything. The apartment offers a fully equipped kitchen, stainless steel appliances, coffee maker with K-cups, in-home washer and dryer, fresh towels, bathroom essentials, beautiful rooftop pool, fitness center, and sleep up to 7 people.\n",
      "32.7811152594609\n",
      "-96.7978716653662\n",
      "\n"
     ]
    }
   ],
   "source": [
    "# todo: show top-k through pandas\n",
    "for md in topk_cos:\n",
    "    df = pd.read_csv(tsv_dir + 'doc_' + md[1] + '.tsv', sep='\\t', usecols=[2, 4, 5, 6])\n",
    "    print(md)\n",
    "    print(df.columns[0])\n",
    "    print(df.columns[1])\n",
    "    print(df.columns[2])\n",
    "    print(df.columns[3] + '\\n')"
   ]
  },
  {
   "cell_type": "markdown",
   "metadata": {},
   "source": [
    "# Step 4"
   ]
  },
  {
   "cell_type": "code",
   "execution_count": 35,
   "metadata": {},
   "outputs": [
    {
     "name": "stdout",
     "output_type": "stream",
     "text": [
      "Dallas\n"
     ]
    }
   ],
   "source": [
    "# todo: geo2coords has to be preprocessed\n",
    "\n",
    "# ask user's position to show him/her\n",
    "# the better place nearby\n",
    "u_pos = input()"
   ]
  },
  {
   "cell_type": "code",
   "execution_count": 36,
   "metadata": {},
   "outputs": [],
   "source": [
    "import sys\n",
    "\n",
    "# todo: loop input until a valid city has been provided\n",
    "# get coords\n",
    "if not u_pos in geo2coords.keys():\n",
    "    print('This city is not supported!')\n",
    "    sys.exit(1)\n",
    "\n",
    "coords = geo2coords[u_pos]"
   ]
  },
  {
   "cell_type": "code",
   "execution_count": 37,
   "metadata": {},
   "outputs": [
    {
     "name": "stdout",
     "output_type": "stream",
     "text": [
      "('32.7866364570642', '-96.8746686879646')\n"
     ]
    }
   ],
   "source": [
    "print(coords)"
   ]
  },
  {
   "cell_type": "code",
   "execution_count": 38,
   "metadata": {},
   "outputs": [],
   "source": [
    "distances = []\n",
    "\n",
    "for m in matching_docs:\n",
    "    d_city = docid2geo[m]\n",
    "    d_coords = geo2coords[d_city]\n",
    "    \n",
    "    dist = distance_function(coords, d_coords)\n",
    "    distances.append((dist, m, d_city))"
   ]
  },
  {
   "cell_type": "code",
   "execution_count": 39,
   "metadata": {},
   "outputs": [
    {
     "name": "stdout",
     "output_type": "stream",
     "text": [
      "[(286.45849488555126, '13864', 'Austin'), (0.0, '13503', 'Dallas'), (0.0, '8379', 'Dallas'), (369.64077265826234, '17952', 'Houston'), (38.83006355298282, '1474', 'Fort Worth'), (38.83006355298282, '9168', 'Fort Worth'), (0.0, '14033', 'Dallas'), (0.0, '13200', 'Dallas'), (0.0, '11837', 'Dallas'), (0.0, '8447', 'Dallas'), (393.731317503192, '14760', 'San Antonio'), (0.0, '14159', 'Dallas'), (41.532945819077916, '7393', 'Little Elm'), (393.731317503192, '10842', 'San Antonio'), (0.0, '13605', 'Dallas'), (41.532945819077916, '13438', 'Little Elm'), (38.83006355298282, '3775', 'Fort Worth'), (0.0, '9894', 'Dallas'), (0.0, '14689', 'Dallas'), (393.731317503192, '8959', 'San Antonio'), (393.731317503192, '8757', 'San Antonio'), (286.45849488555126, '637', 'Austin'), (393.731317503192, '16102', 'San Antonio'), (0.0, '18203', 'Dallas'), (369.64077265826234, '1066', 'Houston'), (0.0, '5435', 'Dallas'), (0.0, '10989', 'Dallas'), (0.0, '17933', 'Dallas'), (393.731317503192, '4584', 'San Antonio'), (38.83006355298282, '11764', 'Fort Worth'), (286.45849488555126, '2552', 'Austin')]\n",
      "['13864', '13503', '8379', '17952', '1474', '9168', '14033', '13200', '11837', '8447', '14760', '14159', '7393', '10842', '13605', '13438', '3775', '9894', '14689', '8959', '8757', '637', '16102', '18203', '1066', '5435', '10989', '17933', '4584', '11764', '2552']\n",
      "31\n"
     ]
    }
   ],
   "source": [
    "print(distances)\n",
    "print(matching_docs)\n",
    "print(len(matching_docs))"
   ]
  },
  {
   "cell_type": "code",
   "execution_count": 44,
   "metadata": {},
   "outputs": [
    {
     "name": "stdout",
     "output_type": "stream",
     "text": [
      "[[0.23715019 0.         0.         0.30601424 0.03214622 0.03214622\n",
      "  0.         0.         0.         0.         0.32595807 0.\n",
      "  0.03438385 0.32595807 0.         0.03438385 0.03214622 0.\n",
      "  0.         0.32595807 0.32595807 0.23715019 0.32595807 0.\n",
      "  0.30601424 0.         0.         0.         0.32595807 0.03214622\n",
      "  0.23715019]]\n",
      "[[0.7628498  1.         1.         0.69398576 0.9678538  0.9678538\n",
      "  1.         1.         1.         1.         0.6740419  1.\n",
      "  0.96561617 0.6740419  1.         0.96561617 0.9678538  1.\n",
      "  1.         0.6740419  0.6740419  0.7628498  0.6740419  1.\n",
      "  0.69398576 1.         1.         1.         0.6740419  0.9678538\n",
      "  0.7628498 ]]\n",
      "1\n"
     ]
    }
   ],
   "source": [
    "distance_km = [x[0] for x in distances]\n",
    "distance_km_norm = normalized(np.asarray(distance_km, dtype=np.float32))\n",
    "\n",
    "# we need to invert the index as there's an inverse correlation\n",
    "# between the way we deal with our index from 0 to 1 and the distance \n",
    "distance_km_norm_inverted = 1.0 - distance_km_norm\n",
    "\n",
    "print(distance_km_norm)\n",
    "print(distance_km_norm_inverted)\n",
    "print(len(distance_km_norm))"
   ]
  },
  {
   "cell_type": "code",
   "execution_count": 41,
   "metadata": {
    "scrolled": true
   },
   "outputs": [],
   "source": [
    "# merge cosine_similarity and distance\n",
    "matching_docs_ni = []\n",
    "\n",
    "# combining cosine_similarity and the new index\n",
    "for i in range(len(matching_docs_cos)):\n",
    "    m_doc = matching_docs_cos[i]\n",
    "    m_doc_cos = m_doc[0]\n",
    "    m_doc_id = m_doc[1]\n",
    "    dist_i = distance_km_norm[0][i]\n",
    "    \n",
    "    # weighted mean value\n",
    "    # giving more weight to the distance...\n",
    "    # ((w1 * x1) + (w2 * x2)) / w1 + w2 \n",
    "    mean_v = ((m_doc_cos * 0.2) + (dist_i * 0.8))\n",
    "    matching_docs_ni.append((mean_v, m_doc_id))"
   ]
  },
  {
   "cell_type": "code",
   "execution_count": 42,
   "metadata": {},
   "outputs": [
    {
     "name": "stdout",
     "output_type": "stream",
     "text": [
      "[(0.32635101128161287, '8757'), (0.3200743353205231, '8447'), (0.3149585797200743, '14033'), (0.3119898836136226, '4584'), (0.3119898836136226, '16102'), (0.3041192686396149, '14159'), (0.2985206645243008, '637'), (0.2758538904107008, '17952'), (0.2740784752732715, '2552'), (0.2439122750173155, '13503')]\n"
     ]
    }
   ],
   "source": [
    "# creating heap structure\n",
    "heapq.heapify(matching_docs_ni)\n",
    "\n",
    "# showing the top-k where k = 10\n",
    "topk = heapq.nlargest(10, matching_docs_ni)\n",
    "print(topk)"
   ]
  },
  {
   "cell_type": "code",
   "execution_count": 43,
   "metadata": {},
   "outputs": [
    {
     "name": "stdout",
     "output_type": "stream",
     "text": [
      "(0.32635101128161287, '8757')\n",
      "San Antonio\n",
      "This is a Luxury apartment located in a growing and popular area of San Antonio adjacent to Fiesta Texas, the Shops at La Cantera, across the highway from the RIM and Just a short 15 minute (straight shot) drive to downtown. This is a 1 bedroom 1 bath with resort style and infinity pools. The view from my balcony is absolutely stunning: hill-country plus pool view. It is also walking distance to all amenities.\n",
      "29.6206575542356\n",
      "-98.6172513177697\n",
      "\n",
      "(0.3200743353205231, '8447')\n",
      "Dallas\n",
      "Click on my profile to check out my 2 other Downtown Dallas apartments: Another 1-bedroom apartment &amp; a 2-bedrooms apartment\\n\\nYou are looking at the beautiful high-rise suite right at the heart of Downtown Dallas. You can certainly walk to almost everything you need from high-end restaurants to parks, shopping, and tourist destinations. It offers a fully equipped kitchen, stainless steel appliances, hardwood flooring, in-home washer and dryer, beautiful pool, fitness center, and sundeck.\n",
      "32.7826691757887\n",
      "-96.7983873869442\n",
      "\n",
      "(0.3149585797200743, '14033')\n",
      "Dallas\n",
      "Luxury 1 bedroom/1 bath apartment in the heart of Downtown Dallas. Comes with full kitchen, wash &amp; dryer(in unit), queen bed, Wifi, flat screen TV's with cable. Walking distance to shopping, dining, pick-up orders and convenience stores. Affordable Uber rates to nightlife an tourist attractions.\\n\\nBuilding Amenities\\n*Rooftop Pool(6am-Midight)\\n*Community Area(6am-Midnight)\\n*4th Floor Atrium(6am-Midnight)\\n*Parking Garage(1 assigned spot)\\n*Elevators\\n*Mexican Restaurant\\n*Luxury Nail Spa(coming soon)\n",
      "32.7823823267092\n",
      "-96.7994883089144\n",
      "\n",
      "(0.3119898836136226, '4584')\n",
      "San Antonio\n",
      "****WARNING: The pool and hot tub might be closed on June 28 or June 29 for cleaning.****\\n\\nThis elegant downtown apartment will give you a feeling of relaxation, splendor, &amp; locality of Downtown San Antonio. You can certainly walk to almost everything you need from high-end restaurants to parks, shopping, and tourist destinations.\n",
      "29.426272131585\n",
      "-98.4943637611107\n",
      "\n",
      "(0.3119898836136226, '16102')\n",
      "San Antonio\n",
      "****WARNING: The pool and hot tub might be closed on June 28 or June 29 for cleaning.****\\n\\nThis elegant downtown apartment will give you a feeling of relaxation, splendor, &amp; locality of Downtown San Antonio. You can certainly walk to almost everything you need from high-end restaurants to parks, shopping, and tourist destinations.\n",
      "29.426272131585\n",
      "-98.4943637611107\n",
      "\n",
      "(0.3041192686396149, '14159')\n",
      "Dallas\n",
      "Click on my profile to check out my 2 other Downtown Dallas apartments: Another 1-bedroom apartment &amp; a 2-bedrooms apartment\\n\\nYou are looking at the beautiful high-rise suite right at the heart of Downtown Dallas. You can certainly walk to almost everything you need from high-end restaurants to parks, shopping, and tourist destinations. It offers a fully equipped kitchen, stainless steel appliances, hardwood flooring, in-home washer and dryer, beautiful pool, fitness center, and sundeck.\n",
      "32.7826691757887\n",
      "-96.7983873869442\n",
      "\n",
      "(0.2985206645243008, '637')\n",
      "Austin\n",
      "Quiet relax atmosphere just 10 minutes from downtown. 1 bed room 1 bath with washer dryer included,queen bed everything all white, balcony, 17ft tall ceilings, garden tub separate from shower. Privacy and quite neighbors, own desires parking spot. Pets welcome, gym open anytime with lap pool, tv outside and bar b q pit.\n",
      "30.2589482442465\n",
      "-97.8628891451995\n",
      "\n",
      "(0.2758538904107008, '17952')\n",
      "Houston\n",
      "Treat yourself to this luxurious one bedroom guest suite (620sf) in the heart of Montrose. Located in a contemporary home designed by one of Houston's premier architects. Private elevator entrance and access to a sunroom and beautiful pool. It is close to the downtown, midtown, parks, art and culture, great restaurants and dining. Secure property with covered parking, CCTV, electronic access. Great corporate apartment with weekly housekeeping and in unit washer/dryer.\\n.\n",
      "29.7472366587193\n",
      "-95.3866645277486\n",
      "\n",
      "(0.2740784752732715, '2552')\n",
      "Austin\n",
      "Spacious apartment in a safe and friendly North Austin community. 15mins from downtown &amp; 6th street with plenty of surrounding restaurants, stores, and attractions. Pool and 24 hour-fitness center access\n",
      "30.3812545540728\n",
      "-97.6502337849287\n",
      "\n",
      "(0.2439122750173155, '13503')\n",
      "Dallas\n",
      "Luxury 1 bedroom/1 bath apartment in the heart of Downtown Dallas. Comes with full kitchen, wash &amp; dryer(in unit), queen bed, Wifi, flat screen TV's with cable. Walking distance to shopping, dining, pick-up orders and convenience stores. Affordable Uber rates to nightlife an tourist attractions.\\n\\nBuilding Amenities\\n*Rooftop Pool(6am-Midight)\\n*Community Area(6am-Midnight)\\n*4th Floor Atrium(6am-Midnight)\\n*Parking Garage(1 assigned spot)\\n*Elevators\\n*Mexican Restaurant\\n*Luxury Nail Spa(coming soon)\n",
      "32.7823823267092\n",
      "-96.7994883089144\n",
      "\n"
     ]
    }
   ],
   "source": [
    "# todo: visualize data with pandas\n",
    "for md in topk:\n",
    "    df = pd.read_csv(tsv_dir + 'doc_' + md[1] + '.tsv', sep='\\t', usecols=[2, 4, 5, 6])\n",
    "    print(md)\n",
    "    print(df.columns[0])\n",
    "    print(df.columns[1])\n",
    "    print(df.columns[2])\n",
    "    print(df.columns[3] + '\\n')"
   ]
  }
 ],
 "metadata": {
  "kernelspec": {
   "display_name": "Python 3",
   "language": "python",
   "name": "python3"
  },
  "language_info": {
   "codemirror_mode": {
    "name": "ipython",
    "version": 3
   },
   "file_extension": ".py",
   "mimetype": "text/x-python",
   "name": "python",
   "nbconvert_exporter": "python",
   "pygments_lexer": "ipython3",
   "version": "3.7.0"
  }
 },
 "nbformat": 4,
 "nbformat_minor": 2
}
